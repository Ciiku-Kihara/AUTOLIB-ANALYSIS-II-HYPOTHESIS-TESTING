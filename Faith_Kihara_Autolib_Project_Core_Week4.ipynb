{
  "nbformat": 4,
  "nbformat_minor": 0,
  "metadata": {
    "colab": {
      "name": "Faith_Kihara_Autolib_Project_Core_Week4",
      "provenance": [],
      "collapsed_sections": [],
      "toc_visible": true,
      "authorship_tag": "ABX9TyOutUNrrUmhlo+pzNNJqAuD",
      "include_colab_link": true
    },
    "kernelspec": {
      "name": "python3",
      "display_name": "Python 3"
    },
    "language_info": {
      "name": "python"
    }
  },
  "cells": [
    {
      "cell_type": "markdown",
      "metadata": {
        "id": "view-in-github",
        "colab_type": "text"
      },
      "source": [
        "<a href=\"https://colab.research.google.com/github/Ciiku-Kihara/AUTOLIB-HYPOTHESIS-TESTS/blob/main/Faith_Kihara_Autolib_Project_Core_Week4.ipynb\" target=\"_parent\"><img src=\"https://colab.research.google.com/assets/colab-badge.svg\" alt=\"Open In Colab\"/></a>"
      ]
    },
    {
      "cell_type": "markdown",
      "metadata": {
        "id": "nd2Wc7PazbfA"
      },
      "source": [
        "## Research Question\n",
        "\n",
        "Is there a difference between the number of blue cars taken in postal code 75015 and 75016?"
      ]
    },
    {
      "cell_type": "markdown",
      "metadata": {
        "id": "S-5ZnBa-z8mD"
      },
      "source": [
        "## Metric for success\n",
        "\n",
        "Be able to obtain a run a statistiaclly correct hypothesis test, obtain the p value and come to a conclusion."
      ]
    },
    {
      "cell_type": "markdown",
      "metadata": {
        "id": "UNvGsiVD0nbm"
      },
      "source": [
        "## Experimental design\n",
        "\n",
        "Data Cleaning\n",
        "\n",
        "Exploratory Data Analysis(Univariate, Bivariate Analysis)\n",
        "\n",
        "Hypothesis Testing"
      ]
    },
    {
      "cell_type": "markdown",
      "metadata": {
        "id": "aautNVQ11BCy"
      },
      "source": [
        "## Data Relevance\n",
        "\n",
        "The data is relevant for me to conduct a hypothesis test."
      ]
    },
    {
      "cell_type": "markdown",
      "metadata": {
        "id": "ycyLyONSc84Q"
      },
      "source": [
        "## 1. Importing our libraries"
      ]
    },
    {
      "cell_type": "code",
      "metadata": {
        "id": "FdRPunwXcsSe"
      },
      "source": [
        "\n",
        "import pandas as pd\n",
        "\n",
        "import numpy as np\n",
        "\n",
        "import matplotlib.pyplot as plt\n",
        "\n",
        "import seaborn as sns\n",
        "\n",
        "from statsmodels.stats import weightstats as stests\n",
        "\n",
        "from scipy.stats import mannwhitneyu\n",
        "\n",
        "from statsmodels.graphics.gofplots import qqplot\n",
        "\n",
        "from scipy.stats import ttest_ind"
      ],
      "execution_count": 79,
      "outputs": []
    },
    {
      "cell_type": "markdown",
      "metadata": {
        "id": "EvrKPsABdXbh"
      },
      "source": [
        "## 2. Loading our dataset"
      ]
    },
    {
      "cell_type": "code",
      "metadata": {
        "colab": {
          "base_uri": "https://localhost:8080/",
          "height": 380
        },
        "id": "c4oSl-UYdTSO",
        "outputId": "56d5da5c-323d-4c06-f759-7f2bbd1673b2"
      },
      "source": [
        "# Loading our autolib dataset\n",
        "\n",
        "auto = pd.read_csv('autolib_daily_events_postal_code.csv')\n",
        "\n",
        "auto.head(10)"
      ],
      "execution_count": 2,
      "outputs": [
        {
          "output_type": "execute_result",
          "data": {
            "text/html": [
              "<div>\n",
              "<style scoped>\n",
              "    .dataframe tbody tr th:only-of-type {\n",
              "        vertical-align: middle;\n",
              "    }\n",
              "\n",
              "    .dataframe tbody tr th {\n",
              "        vertical-align: top;\n",
              "    }\n",
              "\n",
              "    .dataframe thead th {\n",
              "        text-align: right;\n",
              "    }\n",
              "</style>\n",
              "<table border=\"1\" class=\"dataframe\">\n",
              "  <thead>\n",
              "    <tr style=\"text-align: right;\">\n",
              "      <th></th>\n",
              "      <th>Postal code</th>\n",
              "      <th>date</th>\n",
              "      <th>n_daily_data_points</th>\n",
              "      <th>dayOfWeek</th>\n",
              "      <th>day_type</th>\n",
              "      <th>BlueCars_taken_sum</th>\n",
              "      <th>BlueCars_returned_sum</th>\n",
              "      <th>Utilib_taken_sum</th>\n",
              "      <th>Utilib_returned_sum</th>\n",
              "      <th>Utilib_14_taken_sum</th>\n",
              "      <th>Utilib_14_returned_sum</th>\n",
              "      <th>Slots_freed_sum</th>\n",
              "      <th>Slots_taken_sum</th>\n",
              "    </tr>\n",
              "  </thead>\n",
              "  <tbody>\n",
              "    <tr>\n",
              "      <th>0</th>\n",
              "      <td>75001</td>\n",
              "      <td>1/1/2018</td>\n",
              "      <td>1440</td>\n",
              "      <td>0</td>\n",
              "      <td>weekday</td>\n",
              "      <td>110</td>\n",
              "      <td>103</td>\n",
              "      <td>3</td>\n",
              "      <td>2</td>\n",
              "      <td>10</td>\n",
              "      <td>9</td>\n",
              "      <td>22</td>\n",
              "      <td>20</td>\n",
              "    </tr>\n",
              "    <tr>\n",
              "      <th>1</th>\n",
              "      <td>75001</td>\n",
              "      <td>1/2/2018</td>\n",
              "      <td>1438</td>\n",
              "      <td>1</td>\n",
              "      <td>weekday</td>\n",
              "      <td>98</td>\n",
              "      <td>94</td>\n",
              "      <td>1</td>\n",
              "      <td>1</td>\n",
              "      <td>8</td>\n",
              "      <td>8</td>\n",
              "      <td>23</td>\n",
              "      <td>22</td>\n",
              "    </tr>\n",
              "    <tr>\n",
              "      <th>2</th>\n",
              "      <td>75001</td>\n",
              "      <td>1/3/2018</td>\n",
              "      <td>1439</td>\n",
              "      <td>2</td>\n",
              "      <td>weekday</td>\n",
              "      <td>138</td>\n",
              "      <td>139</td>\n",
              "      <td>0</td>\n",
              "      <td>0</td>\n",
              "      <td>2</td>\n",
              "      <td>2</td>\n",
              "      <td>27</td>\n",
              "      <td>27</td>\n",
              "    </tr>\n",
              "    <tr>\n",
              "      <th>3</th>\n",
              "      <td>75001</td>\n",
              "      <td>1/4/2018</td>\n",
              "      <td>1320</td>\n",
              "      <td>3</td>\n",
              "      <td>weekday</td>\n",
              "      <td>104</td>\n",
              "      <td>104</td>\n",
              "      <td>2</td>\n",
              "      <td>2</td>\n",
              "      <td>9</td>\n",
              "      <td>8</td>\n",
              "      <td>25</td>\n",
              "      <td>21</td>\n",
              "    </tr>\n",
              "    <tr>\n",
              "      <th>4</th>\n",
              "      <td>75001</td>\n",
              "      <td>1/5/2018</td>\n",
              "      <td>1440</td>\n",
              "      <td>4</td>\n",
              "      <td>weekday</td>\n",
              "      <td>114</td>\n",
              "      <td>117</td>\n",
              "      <td>3</td>\n",
              "      <td>3</td>\n",
              "      <td>6</td>\n",
              "      <td>6</td>\n",
              "      <td>18</td>\n",
              "      <td>20</td>\n",
              "    </tr>\n",
              "    <tr>\n",
              "      <th>5</th>\n",
              "      <td>75001</td>\n",
              "      <td>1/6/2018</td>\n",
              "      <td>1437</td>\n",
              "      <td>5</td>\n",
              "      <td>weekend</td>\n",
              "      <td>187</td>\n",
              "      <td>185</td>\n",
              "      <td>6</td>\n",
              "      <td>6</td>\n",
              "      <td>7</td>\n",
              "      <td>8</td>\n",
              "      <td>38</td>\n",
              "      <td>35</td>\n",
              "    </tr>\n",
              "    <tr>\n",
              "      <th>6</th>\n",
              "      <td>75001</td>\n",
              "      <td>1/7/2018</td>\n",
              "      <td>1440</td>\n",
              "      <td>6</td>\n",
              "      <td>weekend</td>\n",
              "      <td>180</td>\n",
              "      <td>180</td>\n",
              "      <td>2</td>\n",
              "      <td>2</td>\n",
              "      <td>10</td>\n",
              "      <td>9</td>\n",
              "      <td>34</td>\n",
              "      <td>34</td>\n",
              "    </tr>\n",
              "    <tr>\n",
              "      <th>7</th>\n",
              "      <td>75001</td>\n",
              "      <td>1/8/2018</td>\n",
              "      <td>1438</td>\n",
              "      <td>0</td>\n",
              "      <td>weekday</td>\n",
              "      <td>84</td>\n",
              "      <td>83</td>\n",
              "      <td>3</td>\n",
              "      <td>3</td>\n",
              "      <td>10</td>\n",
              "      <td>10</td>\n",
              "      <td>14</td>\n",
              "      <td>15</td>\n",
              "    </tr>\n",
              "    <tr>\n",
              "      <th>8</th>\n",
              "      <td>75001</td>\n",
              "      <td>1/9/2018</td>\n",
              "      <td>1439</td>\n",
              "      <td>1</td>\n",
              "      <td>weekday</td>\n",
              "      <td>81</td>\n",
              "      <td>84</td>\n",
              "      <td>1</td>\n",
              "      <td>1</td>\n",
              "      <td>4</td>\n",
              "      <td>4</td>\n",
              "      <td>15</td>\n",
              "      <td>15</td>\n",
              "    </tr>\n",
              "    <tr>\n",
              "      <th>9</th>\n",
              "      <td>75001</td>\n",
              "      <td>1/10/2018</td>\n",
              "      <td>1440</td>\n",
              "      <td>2</td>\n",
              "      <td>weekday</td>\n",
              "      <td>88</td>\n",
              "      <td>85</td>\n",
              "      <td>5</td>\n",
              "      <td>5</td>\n",
              "      <td>11</td>\n",
              "      <td>11</td>\n",
              "      <td>23</td>\n",
              "      <td>22</td>\n",
              "    </tr>\n",
              "  </tbody>\n",
              "</table>\n",
              "</div>"
            ],
            "text/plain": [
              "   Postal code       date  ...  Slots_freed_sum  Slots_taken_sum\n",
              "0        75001   1/1/2018  ...               22               20\n",
              "1        75001   1/2/2018  ...               23               22\n",
              "2        75001   1/3/2018  ...               27               27\n",
              "3        75001   1/4/2018  ...               25               21\n",
              "4        75001   1/5/2018  ...               18               20\n",
              "5        75001   1/6/2018  ...               38               35\n",
              "6        75001   1/7/2018  ...               34               34\n",
              "7        75001   1/8/2018  ...               14               15\n",
              "8        75001   1/9/2018  ...               15               15\n",
              "9        75001  1/10/2018  ...               23               22\n",
              "\n",
              "[10 rows x 13 columns]"
            ]
          },
          "metadata": {
            "tags": []
          },
          "execution_count": 2
        }
      ]
    },
    {
      "cell_type": "code",
      "metadata": {
        "colab": {
          "base_uri": "https://localhost:8080/",
          "height": 432
        },
        "id": "j2m859mQmX3H",
        "outputId": "5dd69d13-237f-488a-8c11-c5760b6c37cd"
      },
      "source": [
        "# Loading the description\n",
        "\n",
        "description = pd.read_excel('columns_explanation.xlsx')\n",
        "description"
      ],
      "execution_count": 3,
      "outputs": [
        {
          "output_type": "execute_result",
          "data": {
            "text/html": [
              "<div>\n",
              "<style scoped>\n",
              "    .dataframe tbody tr th:only-of-type {\n",
              "        vertical-align: middle;\n",
              "    }\n",
              "\n",
              "    .dataframe tbody tr th {\n",
              "        vertical-align: top;\n",
              "    }\n",
              "\n",
              "    .dataframe thead th {\n",
              "        text-align: right;\n",
              "    }\n",
              "</style>\n",
              "<table border=\"1\" class=\"dataframe\">\n",
              "  <thead>\n",
              "    <tr style=\"text-align: right;\">\n",
              "      <th></th>\n",
              "      <th>Column name</th>\n",
              "      <th>explanation</th>\n",
              "    </tr>\n",
              "  </thead>\n",
              "  <tbody>\n",
              "    <tr>\n",
              "      <th>0</th>\n",
              "      <td>Postal code</td>\n",
              "      <td>postal code of the area (in Paris)</td>\n",
              "    </tr>\n",
              "    <tr>\n",
              "      <th>1</th>\n",
              "      <td>date</td>\n",
              "      <td>date of the row aggregation</td>\n",
              "    </tr>\n",
              "    <tr>\n",
              "      <th>2</th>\n",
              "      <td>n_daily_data_points</td>\n",
              "      <td>number of daily data poinst that were availabl...</td>\n",
              "    </tr>\n",
              "    <tr>\n",
              "      <th>3</th>\n",
              "      <td>dayOfWeek</td>\n",
              "      <td>identifier of weekday (0: Monday -&gt; 6: Sunday)</td>\n",
              "    </tr>\n",
              "    <tr>\n",
              "      <th>4</th>\n",
              "      <td>day_type</td>\n",
              "      <td>weekday or weekend</td>\n",
              "    </tr>\n",
              "    <tr>\n",
              "      <th>5</th>\n",
              "      <td>BlueCars_taken_sum</td>\n",
              "      <td>Number of bluecars taken that date in that area</td>\n",
              "    </tr>\n",
              "    <tr>\n",
              "      <th>6</th>\n",
              "      <td>BlueCars_returned_sum</td>\n",
              "      <td>Number of bluecars returned that date in that ...</td>\n",
              "    </tr>\n",
              "    <tr>\n",
              "      <th>7</th>\n",
              "      <td>Utilib_taken_sum</td>\n",
              "      <td>Number of Utilib taken that date in that area</td>\n",
              "    </tr>\n",
              "    <tr>\n",
              "      <th>8</th>\n",
              "      <td>Utilib_returned_sum</td>\n",
              "      <td>Number of Utilib returned that date in that area</td>\n",
              "    </tr>\n",
              "    <tr>\n",
              "      <th>9</th>\n",
              "      <td>Utilib_14_taken_sum</td>\n",
              "      <td>Number of Utilib 1.4 taken that date in that area</td>\n",
              "    </tr>\n",
              "    <tr>\n",
              "      <th>10</th>\n",
              "      <td>Utilib_14_returned_sum</td>\n",
              "      <td>Number of Utilib 1.4 returned that date in tha...</td>\n",
              "    </tr>\n",
              "    <tr>\n",
              "      <th>11</th>\n",
              "      <td>Slots_freed_sum</td>\n",
              "      <td>Number of recharging slots released that date ...</td>\n",
              "    </tr>\n",
              "    <tr>\n",
              "      <th>12</th>\n",
              "      <td>Slots_taken_sum</td>\n",
              "      <td>Number of rechargign slots taken that date in ...</td>\n",
              "    </tr>\n",
              "  </tbody>\n",
              "</table>\n",
              "</div>"
            ],
            "text/plain": [
              "               Column name                                        explanation\n",
              "0              Postal code                 postal code of the area (in Paris)\n",
              "1                     date                        date of the row aggregation\n",
              "2      n_daily_data_points  number of daily data poinst that were availabl...\n",
              "3                dayOfWeek     identifier of weekday (0: Monday -> 6: Sunday)\n",
              "4                 day_type                                 weekday or weekend\n",
              "5       BlueCars_taken_sum    Number of bluecars taken that date in that area\n",
              "6    BlueCars_returned_sum  Number of bluecars returned that date in that ...\n",
              "7         Utilib_taken_sum      Number of Utilib taken that date in that area\n",
              "8      Utilib_returned_sum   Number of Utilib returned that date in that area\n",
              "9      Utilib_14_taken_sum  Number of Utilib 1.4 taken that date in that area\n",
              "10  Utilib_14_returned_sum  Number of Utilib 1.4 returned that date in tha...\n",
              "11         Slots_freed_sum  Number of recharging slots released that date ...\n",
              "12         Slots_taken_sum  Number of rechargign slots taken that date in ..."
            ]
          },
          "metadata": {
            "tags": []
          },
          "execution_count": 3
        }
      ]
    },
    {
      "cell_type": "markdown",
      "metadata": {
        "id": "rPNnld6BnSp8"
      },
      "source": [
        "## 3. Checking our data"
      ]
    },
    {
      "cell_type": "code",
      "metadata": {
        "colab": {
          "base_uri": "https://localhost:8080/"
        },
        "id": "GgXDOoTFnV82",
        "outputId": "58fc9801-b62a-423e-d2a7-be88c9da3831"
      },
      "source": [
        "# Determining the number of rows and columns in our dataset\n",
        "\n",
        "auto.shape\n",
        "\n",
        "# The main dataset contains 16,085 rows(observations) and  \n",
        "# 13 columns(attributes)"
      ],
      "execution_count": 4,
      "outputs": [
        {
          "output_type": "execute_result",
          "data": {
            "text/plain": [
              "(16085, 13)"
            ]
          },
          "metadata": {
            "tags": []
          },
          "execution_count": 4
        }
      ]
    },
    {
      "cell_type": "code",
      "metadata": {
        "colab": {
          "base_uri": "https://localhost:8080/"
        },
        "id": "W62O3RY-n_zj",
        "outputId": "e7b40d83-7829-48eb-af45-776994d94756"
      },
      "source": [
        "# Looking at the exact columns in the dataset\n",
        "\n",
        "auto.columns"
      ],
      "execution_count": 5,
      "outputs": [
        {
          "output_type": "execute_result",
          "data": {
            "text/plain": [
              "Index(['Postal code', 'date', 'n_daily_data_points', 'dayOfWeek', 'day_type',\n",
              "       'BlueCars_taken_sum', 'BlueCars_returned_sum', 'Utilib_taken_sum',\n",
              "       'Utilib_returned_sum', 'Utilib_14_taken_sum', 'Utilib_14_returned_sum',\n",
              "       'Slots_freed_sum', 'Slots_taken_sum'],\n",
              "      dtype='object')"
            ]
          },
          "metadata": {
            "tags": []
          },
          "execution_count": 5
        }
      ]
    },
    {
      "cell_type": "code",
      "metadata": {
        "colab": {
          "base_uri": "https://localhost:8080/",
          "height": 232
        },
        "id": "8Ckq2GoUoJiD",
        "outputId": "fc732355-483b-47a1-83be-55b603e0a424"
      },
      "source": [
        "# Previewing the first 5 rows in the dataset\n",
        "\n",
        "auto.head()"
      ],
      "execution_count": 6,
      "outputs": [
        {
          "output_type": "execute_result",
          "data": {
            "text/html": [
              "<div>\n",
              "<style scoped>\n",
              "    .dataframe tbody tr th:only-of-type {\n",
              "        vertical-align: middle;\n",
              "    }\n",
              "\n",
              "    .dataframe tbody tr th {\n",
              "        vertical-align: top;\n",
              "    }\n",
              "\n",
              "    .dataframe thead th {\n",
              "        text-align: right;\n",
              "    }\n",
              "</style>\n",
              "<table border=\"1\" class=\"dataframe\">\n",
              "  <thead>\n",
              "    <tr style=\"text-align: right;\">\n",
              "      <th></th>\n",
              "      <th>Postal code</th>\n",
              "      <th>date</th>\n",
              "      <th>n_daily_data_points</th>\n",
              "      <th>dayOfWeek</th>\n",
              "      <th>day_type</th>\n",
              "      <th>BlueCars_taken_sum</th>\n",
              "      <th>BlueCars_returned_sum</th>\n",
              "      <th>Utilib_taken_sum</th>\n",
              "      <th>Utilib_returned_sum</th>\n",
              "      <th>Utilib_14_taken_sum</th>\n",
              "      <th>Utilib_14_returned_sum</th>\n",
              "      <th>Slots_freed_sum</th>\n",
              "      <th>Slots_taken_sum</th>\n",
              "    </tr>\n",
              "  </thead>\n",
              "  <tbody>\n",
              "    <tr>\n",
              "      <th>0</th>\n",
              "      <td>75001</td>\n",
              "      <td>1/1/2018</td>\n",
              "      <td>1440</td>\n",
              "      <td>0</td>\n",
              "      <td>weekday</td>\n",
              "      <td>110</td>\n",
              "      <td>103</td>\n",
              "      <td>3</td>\n",
              "      <td>2</td>\n",
              "      <td>10</td>\n",
              "      <td>9</td>\n",
              "      <td>22</td>\n",
              "      <td>20</td>\n",
              "    </tr>\n",
              "    <tr>\n",
              "      <th>1</th>\n",
              "      <td>75001</td>\n",
              "      <td>1/2/2018</td>\n",
              "      <td>1438</td>\n",
              "      <td>1</td>\n",
              "      <td>weekday</td>\n",
              "      <td>98</td>\n",
              "      <td>94</td>\n",
              "      <td>1</td>\n",
              "      <td>1</td>\n",
              "      <td>8</td>\n",
              "      <td>8</td>\n",
              "      <td>23</td>\n",
              "      <td>22</td>\n",
              "    </tr>\n",
              "    <tr>\n",
              "      <th>2</th>\n",
              "      <td>75001</td>\n",
              "      <td>1/3/2018</td>\n",
              "      <td>1439</td>\n",
              "      <td>2</td>\n",
              "      <td>weekday</td>\n",
              "      <td>138</td>\n",
              "      <td>139</td>\n",
              "      <td>0</td>\n",
              "      <td>0</td>\n",
              "      <td>2</td>\n",
              "      <td>2</td>\n",
              "      <td>27</td>\n",
              "      <td>27</td>\n",
              "    </tr>\n",
              "    <tr>\n",
              "      <th>3</th>\n",
              "      <td>75001</td>\n",
              "      <td>1/4/2018</td>\n",
              "      <td>1320</td>\n",
              "      <td>3</td>\n",
              "      <td>weekday</td>\n",
              "      <td>104</td>\n",
              "      <td>104</td>\n",
              "      <td>2</td>\n",
              "      <td>2</td>\n",
              "      <td>9</td>\n",
              "      <td>8</td>\n",
              "      <td>25</td>\n",
              "      <td>21</td>\n",
              "    </tr>\n",
              "    <tr>\n",
              "      <th>4</th>\n",
              "      <td>75001</td>\n",
              "      <td>1/5/2018</td>\n",
              "      <td>1440</td>\n",
              "      <td>4</td>\n",
              "      <td>weekday</td>\n",
              "      <td>114</td>\n",
              "      <td>117</td>\n",
              "      <td>3</td>\n",
              "      <td>3</td>\n",
              "      <td>6</td>\n",
              "      <td>6</td>\n",
              "      <td>18</td>\n",
              "      <td>20</td>\n",
              "    </tr>\n",
              "  </tbody>\n",
              "</table>\n",
              "</div>"
            ],
            "text/plain": [
              "   Postal code      date  ...  Slots_freed_sum  Slots_taken_sum\n",
              "0        75001  1/1/2018  ...               22               20\n",
              "1        75001  1/2/2018  ...               23               22\n",
              "2        75001  1/3/2018  ...               27               27\n",
              "3        75001  1/4/2018  ...               25               21\n",
              "4        75001  1/5/2018  ...               18               20\n",
              "\n",
              "[5 rows x 13 columns]"
            ]
          },
          "metadata": {
            "tags": []
          },
          "execution_count": 6
        }
      ]
    },
    {
      "cell_type": "code",
      "metadata": {
        "colab": {
          "base_uri": "https://localhost:8080/"
        },
        "id": "ntyz7NEooXau",
        "outputId": "42a797b2-1b8a-49b3-bc60-a9d735095b39"
      },
      "source": [
        "# Checking whether each column has the correct data types\n",
        "\n",
        "auto.info()\n",
        "\n",
        "# All columns except the date column has the appropriate datatype.\n",
        "# 11 of the columns are integers and 2 contain strings."
      ],
      "execution_count": 7,
      "outputs": [
        {
          "output_type": "stream",
          "text": [
            "<class 'pandas.core.frame.DataFrame'>\n",
            "RangeIndex: 16085 entries, 0 to 16084\n",
            "Data columns (total 13 columns):\n",
            " #   Column                  Non-Null Count  Dtype \n",
            "---  ------                  --------------  ----- \n",
            " 0   Postal code             16085 non-null  int64 \n",
            " 1   date                    16085 non-null  object\n",
            " 2   n_daily_data_points     16085 non-null  int64 \n",
            " 3   dayOfWeek               16085 non-null  int64 \n",
            " 4   day_type                16085 non-null  object\n",
            " 5   BlueCars_taken_sum      16085 non-null  int64 \n",
            " 6   BlueCars_returned_sum   16085 non-null  int64 \n",
            " 7   Utilib_taken_sum        16085 non-null  int64 \n",
            " 8   Utilib_returned_sum     16085 non-null  int64 \n",
            " 9   Utilib_14_taken_sum     16085 non-null  int64 \n",
            " 10  Utilib_14_returned_sum  16085 non-null  int64 \n",
            " 11  Slots_freed_sum         16085 non-null  int64 \n",
            " 12  Slots_taken_sum         16085 non-null  int64 \n",
            "dtypes: int64(11), object(2)\n",
            "memory usage: 1.6+ MB\n"
          ],
          "name": "stdout"
        }
      ]
    },
    {
      "cell_type": "markdown",
      "metadata": {
        "id": "MaH9CWfgpTaK"
      },
      "source": [
        "## 4. Tidying our dataset"
      ]
    },
    {
      "cell_type": "code",
      "metadata": {
        "colab": {
          "base_uri": "https://localhost:8080/",
          "height": 1000
        },
        "id": "jJopucWt_7B7",
        "outputId": "e10cb4f0-3ae8-4e2a-98ab-fc3fab8a2463"
      },
      "source": [
        "# Checking for outliers in the data\n",
        "\n",
        "cols = ['n_daily_data_points','dayOfWeek', 'BlueCars_taken_sum', 'BlueCars_returned_sum', 'Utilib_taken_sum', 'Utilib_returned_sum',\n",
        "        'Utilib_14_taken_sum', 'Utilib_14_returned_sum', 'Slots_freed_sum', 'Slots_taken_sum']\n",
        "\n",
        "for column in cols:\n",
        "    plt.figure()\n",
        "    auto.boxplot([column], fontsize= 12)\n",
        "    plt.ylabel('count', fontsize = 12)\n",
        "    plt.title('Boxplot - {}'.format(column), fontsize = 16)\n",
        "    \n",
        "# All columns except the day of the week column have outliers. \n"
      ],
      "execution_count": 8,
      "outputs": [
        {
          "output_type": "display_data",
          "data": {
            "image/png": "[encoded data removed]",
            "text/plain": [
              "<Figure size 432x288 with 1 Axes>"
            ]
          },
          "metadata": {
            "tags": [],
            "needs_background": "light"
          }
        },
        {
          "output_type": "display_data",
          "data": {
            "image/png": "[encoded data removed]",
            "text/plain": [
              "<Figure size 432x288 with 1 Axes>"
            ]
          },
          "metadata": {
            "tags": [],
            "needs_background": "light"
          }
        },
        {
          "output_type": "display_data",
          "data": {
            "image/png": "[encoded data removed]",
            "text/plain": [
              "<Figure size 432x288 with 1 Axes>"
            ]
          },
          "metadata": {
            "tags": [],
            "needs_background": "light"
          }
        },
        {
          "output_type": "display_data",
          "data": {
            "image/png": "[encoded data removed]",
            "text/plain": [
              "<Figure size 432x288 with 1 Axes>"
            ]
          },
          "metadata": {
            "tags": [],
            "needs_background": "light"
          }
        },
        {
          "output_type": "display_data",
          "data": {
            "image/png": "[encoded data removed]",
            "text/plain": [
              "<Figure size 432x288 with 1 Axes>"
            ]
          },
          "metadata": {
            "tags": [],
            "needs_background": "light"
          }
        },
        {
          "output_type": "display_data",
          "data": {
            "image/png": "[encoded data removed]",
            "text/plain": [
              "<Figure size 432x288 with 1 Axes>"
            ]
          },
          "metadata": {
            "tags": [],
            "needs_background": "light"
          }
        },
        {
          "output_type": "display_data",
          "data": {
            "image/png": "[encoded data removed]",
            "text/plain": [
              "<Figure size 432x288 with 1 Axes>"
            ]
          },
          "metadata": {
            "tags": [],
            "needs_background": "light"
          }
        },
        {
          "output_type": "display_data",
          "data": {
            "image/png": "[encoded data removed]",
            "text/plain": [
              "<Figure size 432x288 with 1 Axes>"
            ]
          },
          "metadata": {
            "tags": [],
            "needs_background": "light"
          }
        },
        {
          "output_type": "display_data",
          "data": {
            "image/png": "[encoded data removed]",
            "text/plain": [
              "<Figure size 432x288 with 1 Axes>"
            ]
          },
          "metadata": {
            "tags": [],
            "needs_background": "light"
          }
        },
        {
          "output_type": "display_data",
          "data": {
            "image/png": "[encoded data removed]",
            "text/plain": [
              "<Figure size 432x288 with 1 Axes>"
            ]
          },
          "metadata": {
            "tags": [],
            "needs_background": "light"
          }
        }
      ]
    },
    {
      "cell_type": "code",
      "metadata": {
        "colab": {
          "base_uri": "https://localhost:8080/"
        },
        "id": "Qq0GoPQeA-d6",
        "outputId": "5636b2d3-6831-4b80-968c-e0e38acffbe8"
      },
      "source": [
        "# Dealing with the outliers\n",
        "\n",
        "# Calculating our first, third quantiles and then later our IQR\n",
        "# ---\n",
        "Q1 = auto.quantile(0.25)\n",
        "Q3 = auto.quantile(0.75)\n",
        "IQR = Q3 - Q1\n",
        "\n",
        "# Removing outliers based on the IQR range and stores the result in the data frame 'auto'\n",
        "# ---\n",
        "# \n",
        "auto_new = auto[~((auto < (Q1 - 1.5 * IQR)) | (auto > (Q3 + 1.5 * IQR))).any(axis=1)]\n",
        "\n",
        "# Printing the shape of our new dataset\n",
        "# ---\n",
        "# \n",
        "print(auto_new.shape)\n",
        "\n",
        "# Printing the shape of our old dataset\n",
        "# ---\n",
        "#\n",
        "print(auto.shape)\n",
        "\n",
        "# Number of rows removed\n",
        "\n",
        "rows_removed = auto.shape[0] - auto_new.shape[0]\n",
        "rows_removed\n",
        "\n",
        "# Percentage of rows removed of the percentage\n",
        "row_percent = (rows_removed/auto.shape[0]) * 100\n",
        "row_percent\n",
        "\n",
        "\n",
        "\n",
        "\n",
        "# In this case the outliers will not be removed. This is because those values\n",
        "# that are considered anomalies in the boxplot are actually valid values. They give more\n",
        "# information about what is being observed and are not necessarily a mistake.\n",
        "# Moreover, the number of rows that will be removed using the IQR method will be too large(39% of rows will be removed)"
      ],
      "execution_count": 9,
      "outputs": [
        {
          "output_type": "stream",
          "text": [
            "(9783, 13)\n",
            "(16085, 13)\n"
          ],
          "name": "stdout"
        },
        {
          "output_type": "execute_result",
          "data": {
            "text/plain": [
              "39.17935965184955"
            ]
          },
          "metadata": {
            "tags": []
          },
          "execution_count": 9
        }
      ]
    },
    {
      "cell_type": "code",
      "metadata": {
        "colab": {
          "base_uri": "https://localhost:8080/"
        },
        "id": "-H4HWIC5CWUa",
        "outputId": "a0942378-a603-451b-c78a-d8f0ff6831be"
      },
      "source": [
        "# Changing the date column to a datetime\n",
        "\n",
        "auto['date'] = pd.to_datetime(auto['date'])\n",
        "\n",
        "auto.info()"
      ],
      "execution_count": 10,
      "outputs": [
        {
          "output_type": "stream",
          "text": [
            "<class 'pandas.core.frame.DataFrame'>\n",
            "RangeIndex: 16085 entries, 0 to 16084\n",
            "Data columns (total 13 columns):\n",
            " #   Column                  Non-Null Count  Dtype         \n",
            "---  ------                  --------------  -----         \n",
            " 0   Postal code             16085 non-null  int64         \n",
            " 1   date                    16085 non-null  datetime64[ns]\n",
            " 2   n_daily_data_points     16085 non-null  int64         \n",
            " 3   dayOfWeek               16085 non-null  int64         \n",
            " 4   day_type                16085 non-null  object        \n",
            " 5   BlueCars_taken_sum      16085 non-null  int64         \n",
            " 6   BlueCars_returned_sum   16085 non-null  int64         \n",
            " 7   Utilib_taken_sum        16085 non-null  int64         \n",
            " 8   Utilib_returned_sum     16085 non-null  int64         \n",
            " 9   Utilib_14_taken_sum     16085 non-null  int64         \n",
            " 10  Utilib_14_returned_sum  16085 non-null  int64         \n",
            " 11  Slots_freed_sum         16085 non-null  int64         \n",
            " 12  Slots_taken_sum         16085 non-null  int64         \n",
            "dtypes: datetime64[ns](1), int64(11), object(1)\n",
            "memory usage: 1.6+ MB\n"
          ],
          "name": "stdout"
        }
      ]
    },
    {
      "cell_type": "code",
      "metadata": {
        "colab": {
          "base_uri": "https://localhost:8080/"
        },
        "id": "xMXXxXw5DR8n",
        "outputId": "8cf0f849-84b2-4d43-f354-cab9225d102a"
      },
      "source": [
        "# Checking for anomalies in the categorical columns\n",
        "\n",
        "columns = ['date', 'day_type', 'Postal code']\n",
        "\n",
        "for i in columns:\n",
        "  print(i, '-', auto[i].unique())\n",
        "\n",
        "# The values in the date and day type columns do not have any errors"
      ],
      "execution_count": 11,
      "outputs": [
        {
          "output_type": "stream",
          "text": [
            "date - ['2018-01-01T00:00:00.000000000' '2018-01-02T00:00:00.000000000'\n",
            " '2018-01-03T00:00:00.000000000' '2018-01-04T00:00:00.000000000'\n",
            " '2018-01-05T00:00:00.000000000' '2018-01-06T00:00:00.000000000'\n",
            " '2018-01-07T00:00:00.000000000' '2018-01-08T00:00:00.000000000'\n",
            " '2018-01-09T00:00:00.000000000' '2018-01-10T00:00:00.000000000'\n",
            " '2018-01-11T00:00:00.000000000' '2018-01-12T00:00:00.000000000'\n",
            " '2018-01-13T00:00:00.000000000' '2018-01-14T00:00:00.000000000'\n",
            " '2018-01-15T00:00:00.000000000' '2018-01-16T00:00:00.000000000'\n",
            " '2018-01-17T00:00:00.000000000' '2018-01-18T00:00:00.000000000'\n",
            " '2018-01-19T00:00:00.000000000' '2018-01-20T00:00:00.000000000'\n",
            " '2018-01-21T00:00:00.000000000' '2018-01-22T00:00:00.000000000'\n",
            " '2018-01-23T00:00:00.000000000' '2018-01-24T00:00:00.000000000'\n",
            " '2018-01-25T00:00:00.000000000' '2018-01-26T00:00:00.000000000'\n",
            " '2018-01-27T00:00:00.000000000' '2018-01-28T00:00:00.000000000'\n",
            " '2018-01-29T00:00:00.000000000' '2018-01-30T00:00:00.000000000'\n",
            " '2018-01-31T00:00:00.000000000' '2018-02-01T00:00:00.000000000'\n",
            " '2018-02-02T00:00:00.000000000' '2018-02-03T00:00:00.000000000'\n",
            " '2018-02-04T00:00:00.000000000' '2018-02-05T00:00:00.000000000'\n",
            " '2018-02-06T00:00:00.000000000' '2018-02-07T00:00:00.000000000'\n",
            " '2018-02-08T00:00:00.000000000' '2018-02-09T00:00:00.000000000'\n",
            " '2018-02-10T00:00:00.000000000' '2018-02-11T00:00:00.000000000'\n",
            " '2018-02-12T00:00:00.000000000' '2018-02-13T00:00:00.000000000'\n",
            " '2018-02-14T00:00:00.000000000' '2018-02-15T00:00:00.000000000'\n",
            " '2018-02-16T00:00:00.000000000' '2018-02-17T00:00:00.000000000'\n",
            " '2018-02-18T00:00:00.000000000' '2018-02-19T00:00:00.000000000'\n",
            " '2018-02-20T00:00:00.000000000' '2018-02-21T00:00:00.000000000'\n",
            " '2018-02-22T00:00:00.000000000' '2018-02-23T00:00:00.000000000'\n",
            " '2018-02-24T00:00:00.000000000' '2018-02-28T00:00:00.000000000'\n",
            " '2018-03-01T00:00:00.000000000' '2018-03-02T00:00:00.000000000'\n",
            " '2018-03-03T00:00:00.000000000' '2018-03-04T00:00:00.000000000'\n",
            " '2018-03-05T00:00:00.000000000' '2018-03-06T00:00:00.000000000'\n",
            " '2018-03-07T00:00:00.000000000' '2018-03-08T00:00:00.000000000'\n",
            " '2018-03-09T00:00:00.000000000' '2018-03-10T00:00:00.000000000'\n",
            " '2018-03-11T00:00:00.000000000' '2018-03-12T00:00:00.000000000'\n",
            " '2018-03-13T00:00:00.000000000' '2018-03-14T00:00:00.000000000'\n",
            " '2018-03-15T00:00:00.000000000' '2018-03-16T00:00:00.000000000'\n",
            " '2018-03-17T00:00:00.000000000' '2018-03-18T00:00:00.000000000'\n",
            " '2018-03-19T00:00:00.000000000' '2018-03-20T00:00:00.000000000'\n",
            " '2018-03-21T00:00:00.000000000' '2018-03-22T00:00:00.000000000'\n",
            " '2018-03-23T00:00:00.000000000' '2018-03-24T00:00:00.000000000'\n",
            " '2018-03-25T00:00:00.000000000' '2018-03-26T00:00:00.000000000'\n",
            " '2018-03-27T00:00:00.000000000' '2018-03-28T00:00:00.000000000'\n",
            " '2018-03-29T00:00:00.000000000' '2018-03-30T00:00:00.000000000'\n",
            " '2018-03-31T00:00:00.000000000' '2018-04-01T00:00:00.000000000'\n",
            " '2018-04-02T00:00:00.000000000' '2018-04-03T00:00:00.000000000'\n",
            " '2018-04-04T00:00:00.000000000' '2018-04-05T00:00:00.000000000'\n",
            " '2018-04-06T00:00:00.000000000' '2018-04-07T00:00:00.000000000'\n",
            " '2018-04-08T00:00:00.000000000' '2018-04-09T00:00:00.000000000'\n",
            " '2018-04-10T00:00:00.000000000' '2018-04-11T00:00:00.000000000'\n",
            " '2018-04-12T00:00:00.000000000' '2018-04-13T00:00:00.000000000'\n",
            " '2018-04-14T00:00:00.000000000' '2018-04-15T00:00:00.000000000'\n",
            " '2018-04-16T00:00:00.000000000' '2018-04-17T00:00:00.000000000'\n",
            " '2018-04-18T00:00:00.000000000' '2018-04-19T00:00:00.000000000'\n",
            " '2018-04-20T00:00:00.000000000' '2018-04-21T00:00:00.000000000'\n",
            " '2018-04-22T00:00:00.000000000' '2018-04-23T00:00:00.000000000'\n",
            " '2018-04-24T00:00:00.000000000' '2018-04-25T00:00:00.000000000'\n",
            " '2018-04-26T00:00:00.000000000' '2018-04-27T00:00:00.000000000'\n",
            " '2018-04-28T00:00:00.000000000' '2018-04-29T00:00:00.000000000'\n",
            " '2018-04-30T00:00:00.000000000' '2018-05-01T00:00:00.000000000'\n",
            " '2018-05-02T00:00:00.000000000' '2018-05-03T00:00:00.000000000'\n",
            " '2018-05-04T00:00:00.000000000' '2018-05-05T00:00:00.000000000'\n",
            " '2018-05-06T00:00:00.000000000' '2018-05-07T00:00:00.000000000'\n",
            " '2018-05-08T00:00:00.000000000' '2018-05-20T00:00:00.000000000'\n",
            " '2018-05-21T00:00:00.000000000' '2018-05-22T00:00:00.000000000'\n",
            " '2018-05-23T00:00:00.000000000' '2018-05-24T00:00:00.000000000'\n",
            " '2018-05-25T00:00:00.000000000' '2018-05-26T00:00:00.000000000'\n",
            " '2018-05-27T00:00:00.000000000' '2018-05-28T00:00:00.000000000'\n",
            " '2018-05-29T00:00:00.000000000' '2018-05-30T00:00:00.000000000'\n",
            " '2018-05-31T00:00:00.000000000' '2018-06-01T00:00:00.000000000'\n",
            " '2018-06-02T00:00:00.000000000' '2018-06-03T00:00:00.000000000'\n",
            " '2018-06-04T00:00:00.000000000' '2018-06-05T00:00:00.000000000'\n",
            " '2018-06-06T00:00:00.000000000' '2018-06-07T00:00:00.000000000'\n",
            " '2018-06-08T00:00:00.000000000' '2018-06-09T00:00:00.000000000'\n",
            " '2018-06-10T00:00:00.000000000' '2018-06-11T00:00:00.000000000'\n",
            " '2018-06-12T00:00:00.000000000' '2018-06-13T00:00:00.000000000'\n",
            " '2018-06-14T00:00:00.000000000' '2018-06-15T00:00:00.000000000'\n",
            " '2018-06-16T00:00:00.000000000' '2018-06-17T00:00:00.000000000'\n",
            " '2018-06-18T00:00:00.000000000' '2018-06-19T00:00:00.000000000']\n",
            "day_type - ['weekday' 'weekend']\n",
            "Postal code - [75001 75002 75003 75004 75005 75006 75007 75008 75009 75010 75011 75012\n",
            " 75013 75014 75015 75016 75017 75018 75019 75020 75112 75116 78000 78140\n",
            " 78150 91330 91370 91400 92000 92100 92110 92120 92130 92140 92150 92160\n",
            " 92170 92190 92200 92210 92220 92230 92240 92250 92260 92270 92290 92300\n",
            " 92310 92320 92330 92340 92350 92360 92370 92380 92390 92400 92410 92420\n",
            " 92500 92600 92700 92800 93100 93110 93130 93150 93170 93200 93230 93260\n",
            " 93300 93310 93350 93360 93370 93390 93400 93440 93500 93600 93700 93800\n",
            " 94000 94100 94110 94120 94130 94140 94150 94160 94220 94230 94300 94340\n",
            " 94410 94450 94500 94700 94800 95100 95870 95880]\n"
          ],
          "name": "stdout"
        }
      ]
    },
    {
      "cell_type": "code",
      "metadata": {
        "colab": {
          "base_uri": "https://localhost:8080/"
        },
        "id": "cCGDgzVFF3ph",
        "outputId": "a922199c-5c44-457a-b9c5-cf3207bb09e2"
      },
      "source": [
        "# Checking for missing values in the data.\n",
        "\n",
        "auto.isnull().sum()\n",
        "\n",
        "# There are no missing values in the dataset"
      ],
      "execution_count": 12,
      "outputs": [
        {
          "output_type": "execute_result",
          "data": {
            "text/plain": [
              "Postal code               0\n",
              "date                      0\n",
              "n_daily_data_points       0\n",
              "dayOfWeek                 0\n",
              "day_type                  0\n",
              "BlueCars_taken_sum        0\n",
              "BlueCars_returned_sum     0\n",
              "Utilib_taken_sum          0\n",
              "Utilib_returned_sum       0\n",
              "Utilib_14_taken_sum       0\n",
              "Utilib_14_returned_sum    0\n",
              "Slots_freed_sum           0\n",
              "Slots_taken_sum           0\n",
              "dtype: int64"
            ]
          },
          "metadata": {
            "tags": []
          },
          "execution_count": 12
        }
      ]
    },
    {
      "cell_type": "code",
      "metadata": {
        "colab": {
          "base_uri": "https://localhost:8080/"
        },
        "id": "YG5h8SRfGLzz",
        "outputId": "abacbd62-6646-42f0-ba02-89b84e200a97"
      },
      "source": [
        "# Checking for duplicates in the data\n",
        "\n",
        "auto.duplicated().any()\n",
        "\n",
        "# There are no duplicates in our dataset"
      ],
      "execution_count": 13,
      "outputs": [
        {
          "output_type": "execute_result",
          "data": {
            "text/plain": [
              "False"
            ]
          },
          "metadata": {
            "tags": []
          },
          "execution_count": 13
        }
      ]
    },
    {
      "cell_type": "code",
      "metadata": {
        "colab": {
          "base_uri": "https://localhost:8080/"
        },
        "id": "r84IxkCdGiB_",
        "outputId": "8e263d9a-0221-403d-a345-c503514d6924"
      },
      "source": [
        "# Ensuring uniformity in the columns by changing column names\n",
        "# to lowercase, stripping all white spaces and replacing all spaces\n",
        "# in the column name with an underscore\n",
        "\n",
        "auto.columns = auto.columns.str.strip().str.replace('dayOfWeek', 'day_of_week').str.lower().str.replace(' ', '_')\n",
        "\n",
        "auto.columns\n",
        "\n",
        "# The column names are now uniform"
      ],
      "execution_count": 14,
      "outputs": [
        {
          "output_type": "execute_result",
          "data": {
            "text/plain": [
              "Index(['postal_code', 'date', 'n_daily_data_points', 'day_of_week', 'day_type',\n",
              "       'bluecars_taken_sum', 'bluecars_returned_sum', 'utilib_taken_sum',\n",
              "       'utilib_returned_sum', 'utilib_14_taken_sum', 'utilib_14_returned_sum',\n",
              "       'slots_freed_sum', 'slots_taken_sum'],\n",
              "      dtype='object')"
            ]
          },
          "metadata": {
            "tags": []
          },
          "execution_count": 14
        }
      ]
    },
    {
      "cell_type": "code",
      "metadata": {
        "colab": {
          "base_uri": "https://localhost:8080/",
          "height": 195
        },
        "id": "6_63zn0swaEB",
        "outputId": "9e584ead-c267-43b3-f4f6-ac13bd0d5e45"
      },
      "source": [
        "# Dropping columns that will not be needed in our analysis of blue cars\n",
        "\n",
        "drop_columns = ['utilib_taken_sum','utilib_returned_sum', 'utilib_14_taken_sum', \n",
        "                'utilib_14_returned_sum', 'slots_freed_sum', 'slots_taken_sum']\n",
        "\n",
        "auto.drop(drop_columns, axis=1, inplace=True)\n",
        "\n",
        "auto.head()"
      ],
      "execution_count": 15,
      "outputs": [
        {
          "output_type": "execute_result",
          "data": {
            "text/html": [
              "<div>\n",
              "<style scoped>\n",
              "    .dataframe tbody tr th:only-of-type {\n",
              "        vertical-align: middle;\n",
              "    }\n",
              "\n",
              "    .dataframe tbody tr th {\n",
              "        vertical-align: top;\n",
              "    }\n",
              "\n",
              "    .dataframe thead th {\n",
              "        text-align: right;\n",
              "    }\n",
              "</style>\n",
              "<table border=\"1\" class=\"dataframe\">\n",
              "  <thead>\n",
              "    <tr style=\"text-align: right;\">\n",
              "      <th></th>\n",
              "      <th>postal_code</th>\n",
              "      <th>date</th>\n",
              "      <th>n_daily_data_points</th>\n",
              "      <th>day_of_week</th>\n",
              "      <th>day_type</th>\n",
              "      <th>bluecars_taken_sum</th>\n",
              "      <th>bluecars_returned_sum</th>\n",
              "    </tr>\n",
              "  </thead>\n",
              "  <tbody>\n",
              "    <tr>\n",
              "      <th>0</th>\n",
              "      <td>75001</td>\n",
              "      <td>2018-01-01</td>\n",
              "      <td>1440</td>\n",
              "      <td>0</td>\n",
              "      <td>weekday</td>\n",
              "      <td>110</td>\n",
              "      <td>103</td>\n",
              "    </tr>\n",
              "    <tr>\n",
              "      <th>1</th>\n",
              "      <td>75001</td>\n",
              "      <td>2018-01-02</td>\n",
              "      <td>1438</td>\n",
              "      <td>1</td>\n",
              "      <td>weekday</td>\n",
              "      <td>98</td>\n",
              "      <td>94</td>\n",
              "    </tr>\n",
              "    <tr>\n",
              "      <th>2</th>\n",
              "      <td>75001</td>\n",
              "      <td>2018-01-03</td>\n",
              "      <td>1439</td>\n",
              "      <td>2</td>\n",
              "      <td>weekday</td>\n",
              "      <td>138</td>\n",
              "      <td>139</td>\n",
              "    </tr>\n",
              "    <tr>\n",
              "      <th>3</th>\n",
              "      <td>75001</td>\n",
              "      <td>2018-01-04</td>\n",
              "      <td>1320</td>\n",
              "      <td>3</td>\n",
              "      <td>weekday</td>\n",
              "      <td>104</td>\n",
              "      <td>104</td>\n",
              "    </tr>\n",
              "    <tr>\n",
              "      <th>4</th>\n",
              "      <td>75001</td>\n",
              "      <td>2018-01-05</td>\n",
              "      <td>1440</td>\n",
              "      <td>4</td>\n",
              "      <td>weekday</td>\n",
              "      <td>114</td>\n",
              "      <td>117</td>\n",
              "    </tr>\n",
              "  </tbody>\n",
              "</table>\n",
              "</div>"
            ],
            "text/plain": [
              "   postal_code       date  ...  bluecars_taken_sum  bluecars_returned_sum\n",
              "0        75001 2018-01-01  ...                 110                    103\n",
              "1        75001 2018-01-02  ...                  98                     94\n",
              "2        75001 2018-01-03  ...                 138                    139\n",
              "3        75001 2018-01-04  ...                 104                    104\n",
              "4        75001 2018-01-05  ...                 114                    117\n",
              "\n",
              "[5 rows x 7 columns]"
            ]
          },
          "metadata": {
            "tags": []
          },
          "execution_count": 15
        }
      ]
    },
    {
      "cell_type": "code",
      "metadata": {
        "colab": {
          "base_uri": "https://localhost:8080/"
        },
        "id": "oXeerb9wZkIl",
        "outputId": "75bb005a-41f2-4cbd-9d48-a7e32a9e41bf"
      },
      "source": [
        "# Checking for duplicates\n",
        "\n",
        "auto.duplicated().any()\n",
        "\n",
        "# There are no duplicated observations."
      ],
      "execution_count": 82,
      "outputs": [
        {
          "output_type": "execute_result",
          "data": {
            "text/plain": [
              "False"
            ]
          },
          "metadata": {
            "tags": []
          },
          "execution_count": 82
        }
      ]
    },
    {
      "cell_type": "markdown",
      "metadata": {
        "id": "8TuzJ5etIDSu"
      },
      "source": [
        "## 5. Exploratory analysis"
      ]
    },
    {
      "cell_type": "markdown",
      "metadata": {
        "id": "mmsZOMMsICWT"
      },
      "source": [
        "### Univariate analysis"
      ]
    },
    {
      "cell_type": "markdown",
      "metadata": {
        "id": "6mMneTCNN6w1"
      },
      "source": [
        "Postal code - categorical column"
      ]
    },
    {
      "cell_type": "code",
      "metadata": {
        "colab": {
          "base_uri": "https://localhost:8080/"
        },
        "id": "jmSowDR0TkeO",
        "outputId": "139c615b-efff-4525-8a93-8d243a07576f"
      },
      "source": [
        "# Number of unique values in postal code column\n",
        "\n",
        "auto['postal_code'].nunique()\n",
        "\n",
        "# There are 104 different postal codes recorded in the data"
      ],
      "execution_count": 56,
      "outputs": [
        {
          "output_type": "execute_result",
          "data": {
            "text/plain": [
              "104"
            ]
          },
          "metadata": {
            "tags": []
          },
          "execution_count": 56
        }
      ]
    },
    {
      "cell_type": "code",
      "metadata": {
        "colab": {
          "base_uri": "https://localhost:8080/"
        },
        "id": "gyVjbQ8JIBZP",
        "outputId": "fbf126b4-3781-4a43-a896-aabd2a4b0d23"
      },
      "source": [
        "# Frequency table for postal codes(first 54 postal codes)\n",
        "\n",
        "auto['postal_code'].value_counts().head(54)"
      ],
      "execution_count": 16,
      "outputs": [
        {
          "output_type": "execute_result",
          "data": {
            "text/plain": [
              "94130    156\n",
              "92310    156\n",
              "78140    156\n",
              "94700    156\n",
              "95100    156\n",
              "75006    156\n",
              "75014    156\n",
              "92150    156\n",
              "92190    156\n",
              "92230    156\n",
              "92270    156\n",
              "92350    156\n",
              "94340    156\n",
              "93110    156\n",
              "93230    156\n",
              "93310    156\n",
              "93350    156\n",
              "75007    156\n",
              "75015    156\n",
              "75019    156\n",
              "94150    156\n",
              "94450    156\n",
              "94500    156\n",
              "94300    156\n",
              "75016    156\n",
              "92300    156\n",
              "78150    156\n",
              "75004    156\n",
              "75012    156\n",
              "75020    156\n",
              "95870    156\n",
              "92100    156\n",
              "92140    156\n",
              "92220    156\n",
              "92260    156\n",
              "92380    156\n",
              "94220    156\n",
              "92500    156\n",
              "92700    156\n",
              "93100    156\n",
              "93260    156\n",
              "75005    156\n",
              "75013    156\n",
              "93500    156\n",
              "93700    156\n",
              "94140    156\n",
              "75008    156\n",
              "94110    156\n",
              "75112    156\n",
              "94000    156\n",
              "94160    156\n",
              "92000    156\n",
              "94800    156\n",
              "91330    156\n",
              "Name: postal_code, dtype: int64"
            ]
          },
          "metadata": {
            "tags": []
          },
          "execution_count": 16
        }
      ]
    },
    {
      "cell_type": "code",
      "metadata": {
        "colab": {
          "base_uri": "https://localhost:8080/"
        },
        "id": "cWyHvHuBM-SO",
        "outputId": "6025d57c-25fe-4ef5-efda-db0a5fa2cb00"
      },
      "source": [
        "# Frequency table for postal codes( remaining 60 postal codes)\n",
        "\n",
        "auto['postal_code'].value_counts().tail(60)"
      ],
      "execution_count": 17,
      "outputs": [
        {
          "output_type": "execute_result",
          "data": {
            "text/plain": [
              "93700    156\n",
              "94140    156\n",
              "75008    156\n",
              "94110    156\n",
              "75112    156\n",
              "94000    156\n",
              "94160    156\n",
              "92000    156\n",
              "94800    156\n",
              "91330    156\n",
              "91370    156\n",
              "75002    156\n",
              "75010    156\n",
              "75018    156\n",
              "95880    156\n",
              "92130    156\n",
              "92170    156\n",
              "92210    156\n",
              "92250    156\n",
              "92290    156\n",
              "92330    156\n",
              "92370    156\n",
              "92410    156\n",
              "93130    156\n",
              "93170    156\n",
              "75003    156\n",
              "75011    156\n",
              "94120    156\n",
              "78000    156\n",
              "93800    156\n",
              "93360    156\n",
              "92120    156\n",
              "92160    156\n",
              "92200    156\n",
              "92240    156\n",
              "92320    156\n",
              "92400    156\n",
              "93600    156\n",
              "92800    156\n",
              "92600    156\n",
              "94230    156\n",
              "93400    156\n",
              "75001    156\n",
              "75017    156\n",
              "75009    156\n",
              "92110    155\n",
              "94410    155\n",
              "75116    155\n",
              "91400    155\n",
              "93300    155\n",
              "92420    155\n",
              "92390    155\n",
              "94100    155\n",
              "92360    153\n",
              "93440    151\n",
              "93150    151\n",
              "93370    149\n",
              "92340    147\n",
              "93200    126\n",
              "93390     84\n",
              "Name: postal_code, dtype: int64"
            ]
          },
          "metadata": {
            "tags": []
          },
          "execution_count": 17
        }
      ]
    },
    {
      "cell_type": "code",
      "metadata": {
        "colab": {
          "base_uri": "https://localhost:8080/"
        },
        "id": "oHTFbAd4OeQD",
        "outputId": "0cc07bde-747c-4d72-8c92-5f1683200333"
      },
      "source": [
        "# Getting the maximum number of observations recorded in a postal code \n",
        "\n",
        "auto['postal_code'].value_counts().max()\n",
        "\n",
        "# The highest number of observations in any of the postal codes is 156"
      ],
      "execution_count": 18,
      "outputs": [
        {
          "output_type": "execute_result",
          "data": {
            "text/plain": [
              "156"
            ]
          },
          "metadata": {
            "tags": []
          },
          "execution_count": 18
        }
      ]
    },
    {
      "cell_type": "code",
      "metadata": {
        "colab": {
          "base_uri": "https://localhost:8080/"
        },
        "id": "DsPEvMoOPZ7_",
        "outputId": "b013243f-95b0-423e-c869-5185a060f8b8"
      },
      "source": [
        "# Getting the minimum number of observations recorded in a postal code \n",
        "\n",
        "auto['postal_code'].value_counts().min()\n",
        "\n",
        "# The lowest number of observations in any of the postal codes is 84 which is \n",
        "# in postal code 93390"
      ],
      "execution_count": 19,
      "outputs": [
        {
          "output_type": "execute_result",
          "data": {
            "text/plain": [
              "84"
            ]
          },
          "metadata": {
            "tags": []
          },
          "execution_count": 19
        }
      ]
    },
    {
      "cell_type": "markdown",
      "metadata": {
        "id": "6KF26YX8QKsR"
      },
      "source": [
        "n_daily_data_points column - numerical column"
      ]
    },
    {
      "cell_type": "code",
      "metadata": {
        "colab": {
          "base_uri": "https://localhost:8080/"
        },
        "id": "hqm2NUEHULw7",
        "outputId": "2737e9ff-918f-4353-a3a5-584a37ce228d"
      },
      "source": [
        "# General description of the daily data points column\n",
        "\n",
        "auto['n_daily_data_points'].describe()\n",
        "\n",
        "# The minimum daily data points is 1174 and maximum daily data points is 1440\n",
        "# The average daily data points is 1431 which is given by the mean value.\n",
        "# 25% of the daily data points are below 1439, 50% of the daily data points are below 1440,\n",
        "# 75% of the daily data points are below 1440."
      ],
      "execution_count": 20,
      "outputs": [
        {
          "output_type": "execute_result",
          "data": {
            "text/plain": [
              "count    16085.000000\n",
              "mean      1431.330619\n",
              "std         33.212050\n",
              "min       1174.000000\n",
              "25%       1439.000000\n",
              "50%       1440.000000\n",
              "75%       1440.000000\n",
              "max       1440.000000\n",
              "Name: n_daily_data_points, dtype: float64"
            ]
          },
          "metadata": {
            "tags": []
          },
          "execution_count": 20
        }
      ]
    },
    {
      "cell_type": "code",
      "metadata": {
        "colab": {
          "base_uri": "https://localhost:8080/"
        },
        "id": "9KFZ6OZ9uyAb",
        "outputId": "fcdccdf8-6a02-40f6-c973-92470ae5bf5f"
      },
      "source": [
        "# Outliers present in the daily data points column\n",
        "\n",
        "Q1 = auto.n_daily_data_points.quantile(0.25)\n",
        "Q3 = auto.n_daily_data_points.quantile(0.75)\n",
        "\n",
        "IQR = Q3 - Q1\n",
        "\n",
        "outliers = ((auto.n_daily_data_points < Q1 - 1.5 * IQR) | (auto.n_daily_data_points > Q3 + 1.5 * IQR))\n",
        "outliers.value_counts()\n",
        "\n",
        "# There are 2670 outliers in the column but they will not be dropped as they may be valid entries."
      ],
      "execution_count": 21,
      "outputs": [
        {
          "output_type": "execute_result",
          "data": {
            "text/plain": [
              "False    13415\n",
              "True      2670\n",
              "Name: n_daily_data_points, dtype: int64"
            ]
          },
          "metadata": {
            "tags": []
          },
          "execution_count": 21
        }
      ]
    },
    {
      "cell_type": "code",
      "metadata": {
        "colab": {
          "base_uri": "https://localhost:8080/"
        },
        "id": "uIyfzXFqVNvd",
        "outputId": "2a3ffb61-9b0a-4604-98e2-3f32cd630187"
      },
      "source": [
        "# Obtaining the oefficient of variation\n",
        "\n",
        "c_v = auto['n_daily_data_points'].std()/auto['n_daily_data_points'].mean()\n",
        "c_v\n",
        "\n",
        "# The coefficient of variation is less than 1 which means that the variation in\n",
        "# household size among the respondents is low"
      ],
      "execution_count": 22,
      "outputs": [
        {
          "output_type": "execute_result",
          "data": {
            "text/plain": [
              "0.02320361885942928"
            ]
          },
          "metadata": {
            "tags": []
          },
          "execution_count": 22
        }
      ]
    },
    {
      "cell_type": "code",
      "metadata": {
        "colab": {
          "base_uri": "https://localhost:8080/"
        },
        "id": "_C30KpupVxwm",
        "outputId": "e0b85fb5-5c17-48bd-f2dd-a2c6e1f94ea8"
      },
      "source": [
        "# Obtaining the skewness\n",
        "\n",
        "auto['n_daily_data_points'].skew()\n",
        "\n",
        "# The daily data points are negatively skewed suggesting the presence of \n",
        "# outliers. The distribution of the daily data points is therefore not normal"
      ],
      "execution_count": 23,
      "outputs": [
        {
          "output_type": "execute_result",
          "data": {
            "text/plain": [
              "-5.742776211517434"
            ]
          },
          "metadata": {
            "tags": []
          },
          "execution_count": 23
        }
      ]
    },
    {
      "cell_type": "code",
      "metadata": {
        "colab": {
          "base_uri": "https://localhost:8080/"
        },
        "id": "6aubL60GW_io",
        "outputId": "2fc653d8-a4fc-4347-df77-51742e1d4e58"
      },
      "source": [
        "# Obtaining kurtosis\n",
        "\n",
        "auto['n_daily_data_points'].kurt()\n",
        "\n",
        "# The data is highly leptokurtic. This indicates a presence of outliers"
      ],
      "execution_count": 24,
      "outputs": [
        {
          "output_type": "execute_result",
          "data": {
            "text/plain": [
              "36.59484575836295"
            ]
          },
          "metadata": {
            "tags": []
          },
          "execution_count": 24
        }
      ]
    },
    {
      "cell_type": "code",
      "metadata": {
        "colab": {
          "base_uri": "https://localhost:8080/",
          "height": 519
        },
        "id": "q-Fie2JSaEJb",
        "outputId": "61e98897-bc36-49fd-d7eb-1f1575e51471"
      },
      "source": [
        "# Plotting a histogram for the data points column\n",
        "\n",
        "plt.figure(figsize=(12,8))\n",
        "plt.hist(auto['n_daily_data_points'], bins= 3, histtype= 'bar', rwidth = 0.9)\n",
        "plt.title('Daily data points histogram', fontsize = 16)\n",
        "plt.xlabel('Bins', fontsize = 14)\n",
        "plt.ylabel('count', fontsize = 14)\n",
        "plt.show()\n",
        "\n",
        "# Most of the data points lie between 1350 and 1450."
      ],
      "execution_count": 25,
      "outputs": [
        {
          "output_type": "display_data",
          "data": {
            "image/png": "[encoded data removed]",
            "text/plain": [
              "<Figure size 864x576 with 1 Axes>"
            ]
          },
          "metadata": {
            "tags": [],
            "needs_background": "light"
          }
        }
      ]
    },
    {
      "cell_type": "markdown",
      "metadata": {
        "id": "lVcBhju2cziq"
      },
      "source": [
        "blue cars taken sum column - numerical column"
      ]
    },
    {
      "cell_type": "code",
      "metadata": {
        "colab": {
          "base_uri": "https://localhost:8080/"
        },
        "id": "E2lAGnjmjCXa",
        "outputId": "d1824184-15fc-48c5-d731-50d949f36f92"
      },
      "source": [
        "# Overall description of the column\n",
        "\n",
        "auto['bluecars_taken_sum'].describe()\n",
        "\n",
        "# Maximum number of blue cars taken on a particular day is 1352 with\n",
        "# the minimum being 0. \n",
        "# The average number of blue cars taken was approx. 126 which is given by the mean value.\n",
        "# On 25% of the days, the cars taken were 20 or lower, on 50% of the days, the cars \n",
        "# taken were 46 or less and on 75% of the days, the cars taken were 135 or lower.\n"
      ],
      "execution_count": 26,
      "outputs": [
        {
          "output_type": "execute_result",
          "data": {
            "text/plain": [
              "count    16085.000000\n",
              "mean       125.926951\n",
              "std        185.426579\n",
              "min          0.000000\n",
              "25%         20.000000\n",
              "50%         46.000000\n",
              "75%        135.000000\n",
              "max       1352.000000\n",
              "Name: bluecars_taken_sum, dtype: float64"
            ]
          },
          "metadata": {
            "tags": []
          },
          "execution_count": 26
        }
      ]
    },
    {
      "cell_type": "code",
      "metadata": {
        "colab": {
          "base_uri": "https://localhost:8080/"
        },
        "id": "hkwBl60fycjI",
        "outputId": "01e49807-2425-423d-9a98-fb4c7dce5d3c"
      },
      "source": [
        "# Outliers present in the bluecars taken column\n",
        "\n",
        "Q1 = auto.bluecars_taken_sum.quantile(0.25)\n",
        "Q3 = auto.bluecars_taken_sum.quantile(0.75)\n",
        "\n",
        "IQR = Q3 - Q1\n",
        "\n",
        "outliers = ((auto.bluecars_taken_sum < Q1 - 1.5 * IQR) | (auto.bluecars_taken_sum > Q3 + 1.5 * IQR))\n",
        "outliers.value_counts()\n",
        "\n",
        "# There are 2215 outliers in the column but they will not be dropped as they may be valid entries."
      ],
      "execution_count": 27,
      "outputs": [
        {
          "output_type": "execute_result",
          "data": {
            "text/plain": [
              "False    13870\n",
              "True      2215\n",
              "Name: bluecars_taken_sum, dtype: int64"
            ]
          },
          "metadata": {
            "tags": []
          },
          "execution_count": 27
        }
      ]
    },
    {
      "cell_type": "code",
      "metadata": {
        "colab": {
          "base_uri": "https://localhost:8080/"
        },
        "id": "zxWrMS7gmEEo",
        "outputId": "bbdca5f2-2757-46f2-fe3e-faa45769141f"
      },
      "source": [
        "# Checking on coefficent of variance, skewness and kurtosis\n",
        "\n",
        "print('The skewness is:', auto['bluecars_taken_sum'].skew())\n",
        "print('The kurtosis is:', auto['bluecars_taken_sum'].kurt())\n",
        "print('The coefficient of variation is:', auto['bluecars_taken_sum'].std()/auto['bluecars_taken_sum'].mean() )\n",
        "\n",
        "# The skewness is greater than 0 showing that the column data is positively skewed\n",
        "# The kurtosis is positive meaning that the column data is leptokurtic.\n",
        "# The coefficient of variation is greater than 1 meaning that there is high variability in the column data."
      ],
      "execution_count": 28,
      "outputs": [
        {
          "output_type": "stream",
          "text": [
            "The skewness is: 2.4063548974959086\n",
            "The kurtosis is: 6.172692305510042\n",
            "The coefficient of variation is: 1.4724932027694815\n"
          ],
          "name": "stdout"
        }
      ]
    },
    {
      "cell_type": "code",
      "metadata": {
        "colab": {
          "base_uri": "https://localhost:8080/",
          "height": 519
        },
        "id": "ml0crpGhQTwk",
        "outputId": "f177fcfb-2bb4-4f4b-c57e-0511a11e5d96"
      },
      "source": [
        "# Plotting a histogram for the blue cars taken column\n",
        "\n",
        "def histogram(var1, bins):\n",
        "  plt.figure(figsize= (10,8)),\n",
        "  sns.set_style('darkgrid'),\n",
        "  sns.set_palette('colorblind'),\n",
        "  sns.histplot(x = var1, data=auto,  bins = bins , shrink= 0.9, kde = True)\n",
        "\n",
        "histogram('bluecars_taken_sum', 60)\n",
        "plt.title('Histogram of the sum of blue cars taken', fontsize = 16)\n",
        "plt.xlabel('Sum of blue cars taken', fontsize = 14)\n",
        "plt.ylabel('Count', fontsize = 14)\n",
        "plt.show()\n"
      ],
      "execution_count": 29,
      "outputs": [
        {
          "output_type": "display_data",
          "data": {
            "image/png": "[encoded data removed]",
            "text/plain": [
              "<Figure size 720x576 with 1 Axes>"
            ]
          },
          "metadata": {
            "tags": [],
            "needs_background": "light"
          }
        }
      ]
    },
    {
      "cell_type": "markdown",
      "metadata": {
        "id": "hIzvaateoPNu"
      },
      "source": [
        "Blue cars returned column - numerical column"
      ]
    },
    {
      "cell_type": "code",
      "metadata": {
        "colab": {
          "base_uri": "https://localhost:8080/"
        },
        "id": "HX5fE8ssoUEh",
        "outputId": "e133e219-04b6-44c0-cb01-d98ecbeb6613"
      },
      "source": [
        "# Overall description of the column\n",
        "\n",
        "auto['bluecars_returned_sum'].describe()\n",
        "\n",
        "# Maximum number of blue cars returned on a particular day is 1332 with\n",
        "# the minimum being 0. \n",
        "# The average number of blue cars returned was approx. 126 which is given by the mean value.\n",
        "# On 25% of the days, the cars returned were 20 or lower, on 50% of the days, the cars \n",
        "# returned were 46 or less and on 75% of the days, the cars returned were 135 or lower."
      ],
      "execution_count": 30,
      "outputs": [
        {
          "output_type": "execute_result",
          "data": {
            "text/plain": [
              "count    16085.000000\n",
              "mean       125.912714\n",
              "std        185.501535\n",
              "min          0.000000\n",
              "25%         20.000000\n",
              "50%         46.000000\n",
              "75%        135.000000\n",
              "max       1332.000000\n",
              "Name: bluecars_returned_sum, dtype: float64"
            ]
          },
          "metadata": {
            "tags": []
          },
          "execution_count": 30
        }
      ]
    },
    {
      "cell_type": "code",
      "metadata": {
        "colab": {
          "base_uri": "https://localhost:8080/"
        },
        "id": "tpOrFi2ty4GN",
        "outputId": "e36495d6-ba43-4f32-d014-40a587c1c825"
      },
      "source": [
        "# Outliers present in the bluecars taken column\n",
        "\n",
        "Q1 = auto.bluecars_returned_sum.quantile(0.25)\n",
        "Q3 = auto.bluecars_returned_sum.quantile(0.75)\n",
        "\n",
        "IQR = Q3 - Q1\n",
        "\n",
        "outliers = ((auto.bluecars_returned_sum < Q1 - 1.5 * IQR) | (auto.bluecars_returned_sum > Q3 + 1.5 * IQR))\n",
        "outliers.value_counts()\n",
        "\n",
        "# There are 2213 outliers in the column but they will not be dropped as they may be valid entries."
      ],
      "execution_count": 31,
      "outputs": [
        {
          "output_type": "execute_result",
          "data": {
            "text/plain": [
              "False    13872\n",
              "True      2213\n",
              "Name: bluecars_returned_sum, dtype: int64"
            ]
          },
          "metadata": {
            "tags": []
          },
          "execution_count": 31
        }
      ]
    },
    {
      "cell_type": "code",
      "metadata": {
        "colab": {
          "base_uri": "https://localhost:8080/"
        },
        "id": "y8NivB9VrPe4",
        "outputId": "9c5ccf9b-27f1-4658-af6b-c8a670fada4d"
      },
      "source": [
        "# Checking on coefficent of variance, skewness and kurtosis\n",
        "\n",
        "print('The skewness is:', auto['bluecars_returned_sum'].skew())\n",
        "print('The kurtosis is:', auto['bluecars_returned_sum'].kurt())\n",
        "print('The coefficient of variation is:', auto['bluecars_returned_sum'].std()/auto['bluecars_taken_sum'].mean() )\n",
        "\n",
        "# The skewness is greater than 0 showing that the column data is positively skewed\n",
        "# The kurtosis is positive meaning that the column data is leptokurtic.\n",
        "# The coefficient of variation is greater than 1 meaning that there is high variability in the column data."
      ],
      "execution_count": 32,
      "outputs": [
        {
          "output_type": "stream",
          "text": [
            "The skewness is: 2.412084978838923\n",
            "The kurtosis is: 6.1862880957582345\n",
            "The coefficient of variation is: 1.4730884370212682\n"
          ],
          "name": "stdout"
        }
      ]
    },
    {
      "cell_type": "code",
      "metadata": {
        "colab": {
          "base_uri": "https://localhost:8080/",
          "height": 519
        },
        "id": "dqle5h5-rkdJ",
        "outputId": "657e51c7-3e30-40f9-a203-ba1258d98cb8"
      },
      "source": [
        "# Plotting a histogram of returned blue cars\n",
        "\n",
        "histogram('bluecars_returned_sum', 60)\n",
        "plt.title('Histogram of the sum of blue cars returned', fontsize = 16)\n",
        "plt.xlabel('Sum of blue cars returned', fontsize = 14)\n",
        "plt.ylabel('Count', fontsize = 14)\n",
        "plt.show()"
      ],
      "execution_count": 33,
      "outputs": [
        {
          "output_type": "display_data",
          "data": {
            "image/png": "[encoded data removed]",
            "text/plain": [
              "<Figure size 720x576 with 1 Axes>"
            ]
          },
          "metadata": {
            "tags": []
          }
        }
      ]
    },
    {
      "cell_type": "markdown",
      "metadata": {
        "id": "Q0Q9K3_gzKqj"
      },
      "source": [
        "Day of the week column - Categorical column"
      ]
    },
    {
      "cell_type": "code",
      "metadata": {
        "colab": {
          "base_uri": "https://localhost:8080/",
          "height": 670
        },
        "id": "aoW60eRSxRts",
        "outputId": "7c33aedc-1895-46cc-d661-dda22b71fb8b"
      },
      "source": [
        "count = auto['day_of_week'].value_counts()\n",
        "print(count)\n",
        "print(' ')\n",
        "\n",
        "plt.figure(figsize= (10,8))\n",
        "sns.barplot(x = count.index, y = count.values, alpha=0.9)\n",
        "plt.title('Frequency of each day of the week', fontsize = 16)\n",
        "plt.ylabel('Frequency', fontsize=14)\n",
        "plt.xlabel('Day of the week', fontsize=14)\n",
        "plt.show()\n",
        "\n",
        "# The most number of observations were recorded on Monday(0) and the least\n",
        "# number were recorded on Saturday."
      ],
      "execution_count": 34,
      "outputs": [
        {
          "output_type": "stream",
          "text": [
            "0    2374\n",
            "1    2363\n",
            "6    2274\n",
            "4    2271\n",
            "3    2268\n",
            "2    2268\n",
            "5    2267\n",
            "Name: day_of_week, dtype: int64\n",
            " \n"
          ],
          "name": "stdout"
        },
        {
          "output_type": "display_data",
          "data": {
            "image/png": "[encoded data removed]",
            "text/plain": [
              "<Figure size 720x576 with 1 Axes>"
            ]
          },
          "metadata": {
            "tags": []
          }
        }
      ]
    },
    {
      "cell_type": "markdown",
      "metadata": {
        "id": "4JYHMxgm2xQ5"
      },
      "source": [
        "Day type column - Categorical column\n"
      ]
    },
    {
      "cell_type": "code",
      "metadata": {
        "colab": {
          "base_uri": "https://localhost:8080/",
          "height": 586
        },
        "id": "GLk_XpXL2waZ",
        "outputId": "08139d3c-a214-414f-d748-68fccbacdb97"
      },
      "source": [
        "count = auto['day_type'].value_counts()\n",
        "print(count)\n",
        "print(' ')\n",
        "\n",
        "plt.figure(figsize= (10,8))\n",
        "sns.barplot(x = count.index, y = count.values, alpha=0.9)\n",
        "plt.title('Frequency of the day type', fontsize = 16)\n",
        "plt.ylabel('Frequency', fontsize=14)\n",
        "plt.xlabel('Day type', fontsize=14)\n",
        "plt.show()\n",
        "\n",
        "# 11544 of the entries were observed on weekdays with 4541 being observed during the weekend"
      ],
      "execution_count": 35,
      "outputs": [
        {
          "output_type": "stream",
          "text": [
            "weekday    11544\n",
            "weekend     4541\n",
            "Name: day_type, dtype: int64\n",
            " \n"
          ],
          "name": "stdout"
        },
        {
          "output_type": "display_data",
          "data": {
            "image/png": "[encoded data removed]",
            "text/plain": [
              "<Figure size 720x576 with 1 Axes>"
            ]
          },
          "metadata": {
            "tags": []
          }
        }
      ]
    },
    {
      "cell_type": "markdown",
      "metadata": {
        "id": "DVYm_6jf9x8J"
      },
      "source": [
        "Date column"
      ]
    },
    {
      "cell_type": "code",
      "metadata": {
        "colab": {
          "base_uri": "https://localhost:8080/"
        },
        "id": "sZBP5GUj8glm",
        "outputId": "5681ef39-e0e2-4977-9cf0-748e2c7df3d7"
      },
      "source": [
        "# First day of observations\n",
        "\n",
        "first_date = auto['date'].min()\n",
        "print('The first observations were recorded on', first_date)"
      ],
      "execution_count": 36,
      "outputs": [
        {
          "output_type": "stream",
          "text": [
            "The first observations were recorded on 2018-01-01 00:00:00\n"
          ],
          "name": "stdout"
        }
      ]
    },
    {
      "cell_type": "code",
      "metadata": {
        "colab": {
          "base_uri": "https://localhost:8080/"
        },
        "id": "Wrui0aLa8a3n",
        "outputId": "68660351-f231-41f3-8a27-262828b9d6bc"
      },
      "source": [
        "# Last day of observations\n",
        "\n",
        "last_date = auto['date'].max()\n",
        "print('The last observations were recorded on', last_date)"
      ],
      "execution_count": 37,
      "outputs": [
        {
          "output_type": "stream",
          "text": [
            "The last observations were recorded on 2018-06-19 00:00:00\n"
          ],
          "name": "stdout"
        }
      ]
    },
    {
      "cell_type": "code",
      "metadata": {
        "colab": {
          "base_uri": "https://localhost:8080/"
        },
        "id": "ImPWtkDU8oOd",
        "outputId": "926a1884-8d10-4720-c138-e12561ae3ea9"
      },
      "source": [
        "# Duration over which observations were made\n",
        "\n",
        "duration = last_date - first_date\n",
        "print('The data was collected over', duration)"
      ],
      "execution_count": 38,
      "outputs": [
        {
          "output_type": "stream",
          "text": [
            "The data was collected over 169 days 00:00:00\n"
          ],
          "name": "stdout"
        }
      ]
    },
    {
      "cell_type": "code",
      "metadata": {
        "colab": {
          "base_uri": "https://localhost:8080/",
          "height": 284
        },
        "id": "ilmjmXveMjNM",
        "outputId": "cd652f14-1170-4eee-ba59-faae031efdcc"
      },
      "source": [
        "# General description of the numerical variables\n",
        "\n",
        "auto.describe()"
      ],
      "execution_count": 39,
      "outputs": [
        {
          "output_type": "execute_result",
          "data": {
            "text/html": [
              "<div>\n",
              "<style scoped>\n",
              "    .dataframe tbody tr th:only-of-type {\n",
              "        vertical-align: middle;\n",
              "    }\n",
              "\n",
              "    .dataframe tbody tr th {\n",
              "        vertical-align: top;\n",
              "    }\n",
              "\n",
              "    .dataframe thead th {\n",
              "        text-align: right;\n",
              "    }\n",
              "</style>\n",
              "<table border=\"1\" class=\"dataframe\">\n",
              "  <thead>\n",
              "    <tr style=\"text-align: right;\">\n",
              "      <th></th>\n",
              "      <th>postal_code</th>\n",
              "      <th>n_daily_data_points</th>\n",
              "      <th>day_of_week</th>\n",
              "      <th>bluecars_taken_sum</th>\n",
              "      <th>bluecars_returned_sum</th>\n",
              "    </tr>\n",
              "  </thead>\n",
              "  <tbody>\n",
              "    <tr>\n",
              "      <th>count</th>\n",
              "      <td>16085.000000</td>\n",
              "      <td>16085.000000</td>\n",
              "      <td>16085.000000</td>\n",
              "      <td>16085.000000</td>\n",
              "      <td>16085.000000</td>\n",
              "    </tr>\n",
              "    <tr>\n",
              "      <th>mean</th>\n",
              "      <td>88791.293876</td>\n",
              "      <td>1431.330619</td>\n",
              "      <td>2.969599</td>\n",
              "      <td>125.926951</td>\n",
              "      <td>125.912714</td>\n",
              "    </tr>\n",
              "    <tr>\n",
              "      <th>std</th>\n",
              "      <td>7647.342000</td>\n",
              "      <td>33.212050</td>\n",
              "      <td>2.008378</td>\n",
              "      <td>185.426579</td>\n",
              "      <td>185.501535</td>\n",
              "    </tr>\n",
              "    <tr>\n",
              "      <th>min</th>\n",
              "      <td>75001.000000</td>\n",
              "      <td>1174.000000</td>\n",
              "      <td>0.000000</td>\n",
              "      <td>0.000000</td>\n",
              "      <td>0.000000</td>\n",
              "    </tr>\n",
              "    <tr>\n",
              "      <th>25%</th>\n",
              "      <td>91330.000000</td>\n",
              "      <td>1439.000000</td>\n",
              "      <td>1.000000</td>\n",
              "      <td>20.000000</td>\n",
              "      <td>20.000000</td>\n",
              "    </tr>\n",
              "    <tr>\n",
              "      <th>50%</th>\n",
              "      <td>92340.000000</td>\n",
              "      <td>1440.000000</td>\n",
              "      <td>3.000000</td>\n",
              "      <td>46.000000</td>\n",
              "      <td>46.000000</td>\n",
              "    </tr>\n",
              "    <tr>\n",
              "      <th>75%</th>\n",
              "      <td>93400.000000</td>\n",
              "      <td>1440.000000</td>\n",
              "      <td>5.000000</td>\n",
              "      <td>135.000000</td>\n",
              "      <td>135.000000</td>\n",
              "    </tr>\n",
              "    <tr>\n",
              "      <th>max</th>\n",
              "      <td>95880.000000</td>\n",
              "      <td>1440.000000</td>\n",
              "      <td>6.000000</td>\n",
              "      <td>1352.000000</td>\n",
              "      <td>1332.000000</td>\n",
              "    </tr>\n",
              "  </tbody>\n",
              "</table>\n",
              "</div>"
            ],
            "text/plain": [
              "        postal_code  ...  bluecars_returned_sum\n",
              "count  16085.000000  ...           16085.000000\n",
              "mean   88791.293876  ...             125.912714\n",
              "std     7647.342000  ...             185.501535\n",
              "min    75001.000000  ...               0.000000\n",
              "25%    91330.000000  ...              20.000000\n",
              "50%    92340.000000  ...              46.000000\n",
              "75%    93400.000000  ...             135.000000\n",
              "max    95880.000000  ...            1332.000000\n",
              "\n",
              "[8 rows x 5 columns]"
            ]
          },
          "metadata": {
            "tags": []
          },
          "execution_count": 39
        }
      ]
    },
    {
      "cell_type": "markdown",
      "metadata": {
        "id": "koEZFQ2o4A0k"
      },
      "source": [
        "### Bivariate Analysis"
      ]
    },
    {
      "cell_type": "code",
      "metadata": {
        "colab": {
          "base_uri": "https://localhost:8080/",
          "height": 519
        },
        "id": "DbbGi2Br4D5M",
        "outputId": "9adcf523-82c5-4ba7-f083-44a9c01a1642"
      },
      "source": [
        "# Scatterplot between bluecars returned and blue cars taken\n",
        "\n",
        "plt.figure(figsize= (10,8))\n",
        "sns.scatterplot(x= auto.bluecars_returned_sum, y = auto.bluecars_taken_sum)\n",
        "plt.title('Bluecars returned vs bluecars taken', fontsize = 16)\n",
        "plt.ylabel('Bluecars taken', fontsize=14)\n",
        "plt.xlabel('Bluecars returned', fontsize=14)\n",
        "plt.show()"
      ],
      "execution_count": 40,
      "outputs": [
        {
          "output_type": "display_data",
          "data": {
            "image/png": "[encoded data removed]",
            "text/plain": [
              "<Figure size 720x576 with 1 Axes>"
            ]
          },
          "metadata": {
            "tags": []
          }
        }
      ]
    },
    {
      "cell_type": "code",
      "metadata": {
        "colab": {
          "base_uri": "https://localhost:8080/"
        },
        "id": "K4Hwxj9k5rMl",
        "outputId": "98ab015c-4a30-4167-c4e1-1a8f13a83809"
      },
      "source": [
        "# Correlation between blue cars returned and blue cars taken\n",
        "\n",
        "auto['bluecars_returned_sum'].corr(auto['bluecars_taken_sum'])\n",
        "\n",
        "# From the scatter plot and the correlation coefficient\n",
        "# it is clear that the two are highly correlated."
      ],
      "execution_count": 41,
      "outputs": [
        {
          "output_type": "execute_result",
          "data": {
            "text/plain": [
              "0.9986597051672199"
            ]
          },
          "metadata": {
            "tags": []
          },
          "execution_count": 41
        }
      ]
    },
    {
      "cell_type": "code",
      "metadata": {
        "colab": {
          "base_uri": "https://localhost:8080/",
          "height": 553
        },
        "id": "qQvSflqe7T5q",
        "outputId": "79cd5a52-e86f-43e1-f7e9-4cdaa0dd84da"
      },
      "source": [
        "# Stacked bar chart of type of day and the day of the week\n",
        "\n",
        "table = pd.crosstab(auto['day_type'], auto['day_of_week'])\n",
        "\n",
        "table.plot(kind=\"bar\", \n",
        "                 figsize=(10,8),\n",
        "                 stacked=True)\n",
        "plt.title('Day of the week vs type of day', fontsize = 16)\n",
        "plt.ylabel('Count', fontsize=14)\n",
        "plt.xlabel('Type of day', fontsize=14)\n",
        "plt.show()"
      ],
      "execution_count": 42,
      "outputs": [
        {
          "output_type": "display_data",
          "data": {
            "image/png": "[encoded data removed]",
            "text/plain": [
              "<Figure size 720x576 with 1 Axes>"
            ]
          },
          "metadata": {
            "tags": []
          }
        }
      ]
    },
    {
      "cell_type": "code",
      "metadata": {
        "colab": {
          "base_uri": "https://localhost:8080/",
          "height": 519
        },
        "id": "828FOEUxCSnJ",
        "outputId": "53223914-c133-47ca-fc4e-2a9723a7ec33"
      },
      "source": [
        "# Analysis of blue cars returned based on the day of the week\n",
        "\n",
        "returned = auto.groupby('day_of_week')['bluecars_returned_sum'].sum()\n",
        "\n",
        "plt.figure(figsize= (10,8))\n",
        "sns.barplot(x = returned.index, y = returned.values)\n",
        "plt.title('Blue cars returned by the day of the week', fontsize = 16)\n",
        "plt.ylabel('Sum of blue cars returned', fontsize=14)\n",
        "plt.xlabel('Day of the week', fontsize=14)\n",
        "plt.show()\n",
        "\n",
        "# Most cars were returned on Friday with Tuesday and Wednesday taking two bottom spots. "
      ],
      "execution_count": 43,
      "outputs": [
        {
          "output_type": "display_data",
          "data": {
            "image/png": "[encoded data removed]",
            "text/plain": [
              "<Figure size 720x576 with 1 Axes>"
            ]
          },
          "metadata": {
            "tags": []
          }
        }
      ]
    },
    {
      "cell_type": "code",
      "metadata": {
        "colab": {
          "base_uri": "https://localhost:8080/",
          "height": 519
        },
        "id": "TeodIk1cDFRR",
        "outputId": "98028fcd-fee6-41d6-8d8b-d0723856716c"
      },
      "source": [
        "# Analysis of blue cars taken based on the day of the week\n",
        "\n",
        "taken = auto.groupby('day_of_week')['bluecars_taken_sum'].sum()\n",
        "\n",
        "plt.figure(figsize= (10,8))\n",
        "sns.barplot(x = taken.index, y = taken.values, alpha=0.9)\n",
        "plt.title('Blue cars taken by the day of the week', fontsize = 16)\n",
        "plt.ylabel('Sum of blue cars taken', fontsize=14)\n",
        "plt.xlabel('Day of the week', fontsize=14)\n",
        "plt.show()\n",
        "\n",
        "# Most bluecars were taken on Friday."
      ],
      "execution_count": 44,
      "outputs": [
        {
          "output_type": "display_data",
          "data": {
            "image/png": "[encoded data removed]",
            "text/plain": [
              "<Figure size 720x576 with 1 Axes>"
            ]
          },
          "metadata": {
            "tags": []
          }
        }
      ]
    },
    {
      "cell_type": "code",
      "metadata": {
        "colab": {
          "base_uri": "https://localhost:8080/",
          "height": 608
        },
        "id": "t1jptWf2Dlsy",
        "outputId": "554c9b6d-deea-48fb-9962-4f368420a4a7"
      },
      "source": [
        "# Heatmap showing correlation between numerical variables\n",
        "\n",
        "plt.figure(figsize= (8,8))\n",
        "sns.heatmap(auto.corr(),annot=True)\n",
        "plt.title('Correlation heatmap', fontsize= 16)\n",
        "plt.show()\n"
      ],
      "execution_count": 45,
      "outputs": [
        {
          "output_type": "display_data",
          "data": {
            "image/png": "[encoded data removed]",
            "text/plain": [
              "<Figure size 576x576 with 2 Axes>"
            ]
          },
          "metadata": {
            "tags": []
          }
        }
      ]
    },
    {
      "cell_type": "markdown",
      "metadata": {
        "id": "aNUAAHB7EIdd"
      },
      "source": [
        "#Implementing the solution"
      ]
    },
    {
      "cell_type": "markdown",
      "metadata": {
        "id": "xAgtWMV-LSe8"
      },
      "source": [
        "## 6. Sampling our data"
      ]
    },
    {
      "cell_type": "markdown",
      "metadata": {
        "id": "xzCOTc4wi0Cd"
      },
      "source": [
        "I will use stratified sampling to get a sample from the population. More specifically, proportionate stratified sampling.\n",
        "\n",
        "The data was stratified by postal code. Proportionate stratified sampling would be appropriate because the sample size that will be used in the z test for the two different postal codes will be equal.\n",
        "\n",
        "It is most appropriate sampling technique in this case because of the accuracy of representation and has the added advantage of exhibiting low sampling error. "
      ]
    },
    {
      "cell_type": "code",
      "metadata": {
        "colab": {
          "base_uri": "https://localhost:8080/"
        },
        "id": "k3yoJa25nPnH",
        "outputId": "39e1ddb5-0f4c-4c96-cd13-07f413782f67"
      },
      "source": [
        "# First creating a dataframe with weekdays only\n",
        "\n",
        "auto_day = auto[auto.day_type == 'weekday']\n",
        "auto_day.info()"
      ],
      "execution_count": 46,
      "outputs": [
        {
          "output_type": "stream",
          "text": [
            "<class 'pandas.core.frame.DataFrame'>\n",
            "Int64Index: 11544 entries, 0 to 16084\n",
            "Data columns (total 7 columns):\n",
            " #   Column                 Non-Null Count  Dtype         \n",
            "---  ------                 --------------  -----         \n",
            " 0   postal_code            11544 non-null  int64         \n",
            " 1   date                   11544 non-null  datetime64[ns]\n",
            " 2   n_daily_data_points    11544 non-null  int64         \n",
            " 3   day_of_week            11544 non-null  int64         \n",
            " 4   day_type               11544 non-null  object        \n",
            " 5   bluecars_taken_sum     11544 non-null  int64         \n",
            " 6   bluecars_returned_sum  11544 non-null  int64         \n",
            "dtypes: datetime64[ns](1), int64(5), object(1)\n",
            "memory usage: 721.5+ KB\n"
          ],
          "name": "stdout"
        }
      ]
    },
    {
      "cell_type": "code",
      "metadata": {
        "colab": {
          "base_uri": "https://localhost:8080/",
          "height": 195
        },
        "id": "bQhsE0sLRBPu",
        "outputId": "c005b9f2-f047-4633-8b69-cad7fbeb1627"
      },
      "source": [
        "# In our case, we are going to apply a function that puts each subset into a random sample with a size of 2887. \n",
        "\n",
        "# Stratified sample\n",
        "auto_strat = auto_day.groupby('postal_code', group_keys=False).apply(lambda grouped_subset : grouped_subset.sample(frac=0.25))\n",
        "\n",
        "# Check the stratified output\n",
        "auto_strat.head()\n"
      ],
      "execution_count": 47,
      "outputs": [
        {
          "output_type": "execute_result",
          "data": {
            "text/html": [
              "<div>\n",
              "<style scoped>\n",
              "    .dataframe tbody tr th:only-of-type {\n",
              "        vertical-align: middle;\n",
              "    }\n",
              "\n",
              "    .dataframe tbody tr th {\n",
              "        vertical-align: top;\n",
              "    }\n",
              "\n",
              "    .dataframe thead th {\n",
              "        text-align: right;\n",
              "    }\n",
              "</style>\n",
              "<table border=\"1\" class=\"dataframe\">\n",
              "  <thead>\n",
              "    <tr style=\"text-align: right;\">\n",
              "      <th></th>\n",
              "      <th>postal_code</th>\n",
              "      <th>date</th>\n",
              "      <th>n_daily_data_points</th>\n",
              "      <th>day_of_week</th>\n",
              "      <th>day_type</th>\n",
              "      <th>bluecars_taken_sum</th>\n",
              "      <th>bluecars_returned_sum</th>\n",
              "    </tr>\n",
              "  </thead>\n",
              "  <tbody>\n",
              "    <tr>\n",
              "      <th>18</th>\n",
              "      <td>75001</td>\n",
              "      <td>2018-01-19</td>\n",
              "      <td>1440</td>\n",
              "      <td>4</td>\n",
              "      <td>weekday</td>\n",
              "      <td>130</td>\n",
              "      <td>130</td>\n",
              "    </tr>\n",
              "    <tr>\n",
              "      <th>105</th>\n",
              "      <td>75001</td>\n",
              "      <td>2018-04-19</td>\n",
              "      <td>1203</td>\n",
              "      <td>3</td>\n",
              "      <td>weekday</td>\n",
              "      <td>105</td>\n",
              "      <td>101</td>\n",
              "    </tr>\n",
              "    <tr>\n",
              "      <th>123</th>\n",
              "      <td>75001</td>\n",
              "      <td>2018-05-07</td>\n",
              "      <td>1437</td>\n",
              "      <td>0</td>\n",
              "      <td>weekday</td>\n",
              "      <td>118</td>\n",
              "      <td>115</td>\n",
              "    </tr>\n",
              "    <tr>\n",
              "      <th>49</th>\n",
              "      <td>75001</td>\n",
              "      <td>2018-02-19</td>\n",
              "      <td>1420</td>\n",
              "      <td>0</td>\n",
              "      <td>weekday</td>\n",
              "      <td>85</td>\n",
              "      <td>86</td>\n",
              "    </tr>\n",
              "    <tr>\n",
              "      <th>140</th>\n",
              "      <td>75001</td>\n",
              "      <td>2018-06-04</td>\n",
              "      <td>1440</td>\n",
              "      <td>0</td>\n",
              "      <td>weekday</td>\n",
              "      <td>99</td>\n",
              "      <td>95</td>\n",
              "    </tr>\n",
              "  </tbody>\n",
              "</table>\n",
              "</div>"
            ],
            "text/plain": [
              "     postal_code       date  ...  bluecars_taken_sum  bluecars_returned_sum\n",
              "18         75001 2018-01-19  ...                 130                    130\n",
              "105        75001 2018-04-19  ...                 105                    101\n",
              "123        75001 2018-05-07  ...                 118                    115\n",
              "49         75001 2018-02-19  ...                  85                     86\n",
              "140        75001 2018-06-04  ...                  99                     95\n",
              "\n",
              "[5 rows x 7 columns]"
            ]
          },
          "metadata": {
            "tags": []
          },
          "execution_count": 47
        }
      ]
    },
    {
      "cell_type": "markdown",
      "metadata": {
        "id": "iDHI3H2zjZ_T"
      },
      "source": [
        "## 7. Hypothesis Testing"
      ]
    },
    {
      "cell_type": "markdown",
      "metadata": {
        "id": "vvRzyEU9jp4a"
      },
      "source": [
        "- The hypothesis that is to be tested is as follows:\n",
        "\n",
        "*Null Hypothesis*: The number of Bluecars taken from postal code 75015 is the same as in postal code 75016 during weekdays\n",
        "\n",
        "\n",
        "> Ho: μ1=μ2\n",
        "\n",
        "\n",
        "\n",
        "*Alternative Hypothesis*: The number of Bluecars taken from postal code 75015 is not the same as in postal code 75016 during weekdays\n",
        "\n",
        "\n",
        "> Ha: μ1≠μ2\n",
        "\n",
        "- I used the independent t test. All the assumptions were met in order to carry out this particular test as will be expounded below.\n",
        "I also used the Mann Whitney U test, which is a non-parametric test to compare the results and look for possible inconsistencies.\n",
        "\n",
        "- The significance level that will be used in this hypothesis test is 0.05 or 5%\n",
        "\n",
        "\n"
      ]
    },
    {
      "cell_type": "code",
      "metadata": {
        "colab": {
          "base_uri": "https://localhost:8080/",
          "height": 195
        },
        "id": "Wj-51K2vjZNM",
        "outputId": "5fd7a750-6474-4fc9-e197-61c0b5ce52dc"
      },
      "source": [
        "# Creating a dataframe that contains postal code 75015 on weekdays only\n",
        "\n",
        "samp1 = auto_strat[auto_strat.postal_code == 75015]\n",
        "samp1.head()"
      ],
      "execution_count": 48,
      "outputs": [
        {
          "output_type": "execute_result",
          "data": {
            "text/html": [
              "<div>\n",
              "<style scoped>\n",
              "    .dataframe tbody tr th:only-of-type {\n",
              "        vertical-align: middle;\n",
              "    }\n",
              "\n",
              "    .dataframe tbody tr th {\n",
              "        vertical-align: top;\n",
              "    }\n",
              "\n",
              "    .dataframe thead th {\n",
              "        text-align: right;\n",
              "    }\n",
              "</style>\n",
              "<table border=\"1\" class=\"dataframe\">\n",
              "  <thead>\n",
              "    <tr style=\"text-align: right;\">\n",
              "      <th></th>\n",
              "      <th>postal_code</th>\n",
              "      <th>date</th>\n",
              "      <th>n_daily_data_points</th>\n",
              "      <th>day_of_week</th>\n",
              "      <th>day_type</th>\n",
              "      <th>bluecars_taken_sum</th>\n",
              "      <th>bluecars_returned_sum</th>\n",
              "    </tr>\n",
              "  </thead>\n",
              "  <tbody>\n",
              "    <tr>\n",
              "      <th>2251</th>\n",
              "      <td>75015</td>\n",
              "      <td>2018-03-12</td>\n",
              "      <td>1440</td>\n",
              "      <td>0</td>\n",
              "      <td>weekday</td>\n",
              "      <td>764</td>\n",
              "      <td>734</td>\n",
              "    </tr>\n",
              "    <tr>\n",
              "      <th>2191</th>\n",
              "      <td>75015</td>\n",
              "      <td>2018-01-08</td>\n",
              "      <td>1438</td>\n",
              "      <td>0</td>\n",
              "      <td>weekday</td>\n",
              "      <td>694</td>\n",
              "      <td>728</td>\n",
              "    </tr>\n",
              "    <tr>\n",
              "      <th>2324</th>\n",
              "      <td>75015</td>\n",
              "      <td>2018-06-04</td>\n",
              "      <td>1440</td>\n",
              "      <td>0</td>\n",
              "      <td>weekday</td>\n",
              "      <td>864</td>\n",
              "      <td>877</td>\n",
              "    </tr>\n",
              "    <tr>\n",
              "      <th>2265</th>\n",
              "      <td>75015</td>\n",
              "      <td>2018-03-26</td>\n",
              "      <td>1439</td>\n",
              "      <td>0</td>\n",
              "      <td>weekday</td>\n",
              "      <td>734</td>\n",
              "      <td>706</td>\n",
              "    </tr>\n",
              "    <tr>\n",
              "      <th>2268</th>\n",
              "      <td>75015</td>\n",
              "      <td>2018-03-29</td>\n",
              "      <td>1440</td>\n",
              "      <td>3</td>\n",
              "      <td>weekday</td>\n",
              "      <td>833</td>\n",
              "      <td>839</td>\n",
              "    </tr>\n",
              "  </tbody>\n",
              "</table>\n",
              "</div>"
            ],
            "text/plain": [
              "      postal_code       date  ...  bluecars_taken_sum  bluecars_returned_sum\n",
              "2251        75015 2018-03-12  ...                 764                    734\n",
              "2191        75015 2018-01-08  ...                 694                    728\n",
              "2324        75015 2018-06-04  ...                 864                    877\n",
              "2265        75015 2018-03-26  ...                 734                    706\n",
              "2268        75015 2018-03-29  ...                 833                    839\n",
              "\n",
              "[5 rows x 7 columns]"
            ]
          },
          "metadata": {
            "tags": []
          },
          "execution_count": 48
        }
      ]
    },
    {
      "cell_type": "code",
      "metadata": {
        "colab": {
          "base_uri": "https://localhost:8080/"
        },
        "id": "3KYErl3GP6Go",
        "outputId": "543a514e-5559-47a8-f133-b922e713225f"
      },
      "source": [
        "# Checking the sample size of samp 1\n",
        "samp1.shape[0]"
      ],
      "execution_count": 49,
      "outputs": [
        {
          "output_type": "execute_result",
          "data": {
            "text/plain": [
              "28"
            ]
          },
          "metadata": {
            "tags": []
          },
          "execution_count": 49
        }
      ]
    },
    {
      "cell_type": "code",
      "metadata": {
        "colab": {
          "base_uri": "https://localhost:8080/",
          "height": 195
        },
        "id": "1D2NM7gKoSna",
        "outputId": "b0450a64-d6e7-40a3-c894-38991a0cae16"
      },
      "source": [
        "# Creating a dataframe that contains postal code 75016 on weekdays only\n",
        "\n",
        "samp2 = auto_strat[auto_strat.postal_code == 75016]\n",
        "samp2.head()"
      ],
      "execution_count": 50,
      "outputs": [
        {
          "output_type": "execute_result",
          "data": {
            "text/html": [
              "<div>\n",
              "<style scoped>\n",
              "    .dataframe tbody tr th:only-of-type {\n",
              "        vertical-align: middle;\n",
              "    }\n",
              "\n",
              "    .dataframe tbody tr th {\n",
              "        vertical-align: top;\n",
              "    }\n",
              "\n",
              "    .dataframe thead th {\n",
              "        text-align: right;\n",
              "    }\n",
              "</style>\n",
              "<table border=\"1\" class=\"dataframe\">\n",
              "  <thead>\n",
              "    <tr style=\"text-align: right;\">\n",
              "      <th></th>\n",
              "      <th>postal_code</th>\n",
              "      <th>date</th>\n",
              "      <th>n_daily_data_points</th>\n",
              "      <th>day_of_week</th>\n",
              "      <th>day_type</th>\n",
              "      <th>bluecars_taken_sum</th>\n",
              "      <th>bluecars_returned_sum</th>\n",
              "    </tr>\n",
              "  </thead>\n",
              "  <tbody>\n",
              "    <tr>\n",
              "      <th>2437</th>\n",
              "      <td>75016</td>\n",
              "      <td>2018-04-11</td>\n",
              "      <td>1439</td>\n",
              "      <td>2</td>\n",
              "      <td>weekday</td>\n",
              "      <td>774</td>\n",
              "      <td>779</td>\n",
              "    </tr>\n",
              "    <tr>\n",
              "      <th>2459</th>\n",
              "      <td>75016</td>\n",
              "      <td>2018-05-03</td>\n",
              "      <td>1439</td>\n",
              "      <td>3</td>\n",
              "      <td>weekday</td>\n",
              "      <td>816</td>\n",
              "      <td>802</td>\n",
              "    </tr>\n",
              "    <tr>\n",
              "      <th>2372</th>\n",
              "      <td>75016</td>\n",
              "      <td>2018-02-02</td>\n",
              "      <td>1440</td>\n",
              "      <td>4</td>\n",
              "      <td>weekday</td>\n",
              "      <td>884</td>\n",
              "      <td>887</td>\n",
              "    </tr>\n",
              "    <tr>\n",
              "      <th>2431</th>\n",
              "      <td>75016</td>\n",
              "      <td>2018-04-05</td>\n",
              "      <td>1440</td>\n",
              "      <td>3</td>\n",
              "      <td>weekday</td>\n",
              "      <td>817</td>\n",
              "      <td>832</td>\n",
              "    </tr>\n",
              "    <tr>\n",
              "      <th>2438</th>\n",
              "      <td>75016</td>\n",
              "      <td>2018-04-12</td>\n",
              "      <td>1440</td>\n",
              "      <td>3</td>\n",
              "      <td>weekday</td>\n",
              "      <td>761</td>\n",
              "      <td>777</td>\n",
              "    </tr>\n",
              "  </tbody>\n",
              "</table>\n",
              "</div>"
            ],
            "text/plain": [
              "      postal_code       date  ...  bluecars_taken_sum  bluecars_returned_sum\n",
              "2437        75016 2018-04-11  ...                 774                    779\n",
              "2459        75016 2018-05-03  ...                 816                    802\n",
              "2372        75016 2018-02-02  ...                 884                    887\n",
              "2431        75016 2018-04-05  ...                 817                    832\n",
              "2438        75016 2018-04-12  ...                 761                    777\n",
              "\n",
              "[5 rows x 7 columns]"
            ]
          },
          "metadata": {
            "tags": []
          },
          "execution_count": 50
        }
      ]
    },
    {
      "cell_type": "code",
      "metadata": {
        "colab": {
          "base_uri": "https://localhost:8080/"
        },
        "id": "G8XEdU58WUEO",
        "outputId": "d74e3b1c-728f-4fd6-c7ba-d10442a01140"
      },
      "source": [
        "# Checking the smaple size of samp2\n",
        "\n",
        "samp2.shape[0]"
      ],
      "execution_count": 51,
      "outputs": [
        {
          "output_type": "execute_result",
          "data": {
            "text/plain": [
              "28"
            ]
          },
          "metadata": {
            "tags": []
          },
          "execution_count": 51
        }
      ]
    },
    {
      "cell_type": "markdown",
      "metadata": {
        "id": "fxe8E_bb272z"
      },
      "source": [
        "In order to run an independent t test the following conditions must be met:\n",
        "\n",
        "1. The samples are independently and randomly drawn. This first condition is met.\n",
        "2. The distribution of the residuals between the two groups should follow the normal distribution\n",
        "3. The variances between the two groups are equal"
      ]
    },
    {
      "cell_type": "code",
      "metadata": {
        "colab": {
          "base_uri": "https://localhost:8080/"
        },
        "id": "IQAuQMWp25i4",
        "outputId": "1d5d16c6-f52c-4a34-8c72-8acddb18aa5b"
      },
      "source": [
        "# Checking if the variances between the two groups are equal.\n",
        "\n",
        "stats.levene(samp1['bluecars_taken_sum'], samp2['bluecars_taken_sum'])\n",
        "\n",
        "#the p-value is greater than 0.05. This means in both cases we would fail to reject the null hypothesis. This means \n",
        "# we do not have sufficient evidence to say that the variance bluecars taken in both postal codes is significantly different"
      ],
      "execution_count": 65,
      "outputs": [
        {
          "output_type": "execute_result",
          "data": {
            "text/plain": [
              "LeveneResult(statistic=0.269002283951251, pvalue=0.6061208185192863)"
            ]
          },
          "metadata": {
            "tags": []
          },
          "execution_count": 65
        }
      ]
    },
    {
      "cell_type": "code",
      "metadata": {
        "colab": {
          "base_uri": "https://localhost:8080/"
        },
        "id": "L669DuAy8eUV",
        "outputId": "8155fb8a-240e-4a6b-a5b9-cc43ac0b04e2"
      },
      "source": [
        "# Checking for normality in the residuals\n",
        "\n",
        "# Calculating the residuals between the two groups\n",
        "\n",
        "difference = samp2['bluecars_taken_sum'] - samp1['bluecars_taken_sum']\n",
        "\n",
        "from scipy.stats import shapiro\n",
        "\n",
        "stat, p = shapiro(difference)\n",
        "\n",
        "stat,p\n",
        "\n",
        "# The test gave a p value greater that 0.05 hence not rejecting the null hypothesis\n",
        "# that the residuals are Gaussian."
      ],
      "execution_count": 75,
      "outputs": [
        {
          "output_type": "execute_result",
          "data": {
            "text/plain": [
              "(nan, 1.0)"
            ]
          },
          "metadata": {
            "tags": []
          },
          "execution_count": 75
        }
      ]
    },
    {
      "cell_type": "code",
      "metadata": {
        "colab": {
          "base_uri": "https://localhost:8080/"
        },
        "id": "K2Kw-9STAgT0",
        "outputId": "eb725e93-9b37-49b2-f321-dfdc588e3e63"
      },
      "source": [
        "# Checking for normality in our first sample \n",
        "\n",
        "stat, p = shapiro(samp1['bluecars_taken_sum'])\n",
        "\n",
        "stat,p\n",
        "\n",
        "# The test gave a p value greater that 0.05 hence not rejecting the null hypothesis\n",
        "# that the second sample is normally distributed."
      ],
      "execution_count": 78,
      "outputs": [
        {
          "output_type": "execute_result",
          "data": {
            "text/plain": [
              "(0.9824171662330627, 0.9037771224975586)"
            ]
          },
          "metadata": {
            "tags": []
          },
          "execution_count": 78
        }
      ]
    },
    {
      "cell_type": "code",
      "metadata": {
        "colab": {
          "base_uri": "https://localhost:8080/"
        },
        "id": "AC1xJutHAUrl",
        "outputId": "b1a98b0b-b3c6-47de-a527-842c981f38cf"
      },
      "source": [
        "# Checking for normality of our second sample\n",
        "\n",
        "stat, p = shapiro(samp2['bluecars_taken_sum'])\n",
        "\n",
        "stat,p\n",
        "\n",
        "# The test gave a p value greater that 0.05 hence not rejecting the null hypothesis\n",
        "# that the second sample is normally distributed."
      ],
      "execution_count": 77,
      "outputs": [
        {
          "output_type": "execute_result",
          "data": {
            "text/plain": [
              "(0.9710456132888794, 0.6088914275169373)"
            ]
          },
          "metadata": {
            "tags": []
          },
          "execution_count": 77
        }
      ]
    },
    {
      "cell_type": "markdown",
      "metadata": {
        "id": "y1xj77aOCBGH"
      },
      "source": [
        "Thus the independent t-test will be used in this case as all the above assumptions have been satisfied. \n",
        "\n",
        "The sample size in each sample is less than 30 which makes the t test the appropriate test."
      ]
    },
    {
      "cell_type": "code",
      "metadata": {
        "colab": {
          "base_uri": "https://localhost:8080/"
        },
        "id": "XKsZugAIcBz5",
        "outputId": "ef977342-db02-4080-d7a6-0adad25e445d"
      },
      "source": [
        "# Conducting the independent t test\n",
        "\n",
        "tstat , pval = ttest_ind(samp1['bluecars_taken_sum'], samp2['bluecars_taken_sum'])\n",
        "\n",
        "print(pval, tstat)\n",
        "\n",
        "if pval < 0.05:\n",
        "  print('Reject null hypothesis')\n",
        "else:\n",
        "  print('Do not reject null hypothesis')"
      ],
      "execution_count": 81,
      "outputs": [
        {
          "output_type": "stream",
          "text": [
            "0.009690065300948295 2.681966532179735\n",
            "Reject null hypothesis\n"
          ],
          "name": "stdout"
        }
      ]
    },
    {
      "cell_type": "markdown",
      "metadata": {
        "id": "KyYzuWAazzJ0"
      },
      "source": [
        "For comparison purposes, I ran the Mann Whitney U test. \n",
        "This is a non-parametric test that does not require the data to be normal.\n",
        "\n",
        "It can only be run if the number of observations in each sample is greater than 20. Both our samples have a sample size of 28 and the samples are independent."
      ]
    },
    {
      "cell_type": "code",
      "metadata": {
        "colab": {
          "base_uri": "https://localhost:8080/"
        },
        "id": "PoUxv3cmzdy-",
        "outputId": "9bba6ed2-ebf6-45e7-f994-a390a1634c13"
      },
      "source": [
        "# Performing a non parametric test to find the difference between 2 means\n",
        "\n",
        "stat, p = mannwhitneyu(x = samp1['bluecars_taken_sum'], y= samp2['bluecars_taken_sum'], alternative = 'two-sided')\n",
        "\n",
        "print(stat,p)\n",
        "\n",
        "if p < 0.05:\n",
        "  print('Reject null hypothesis')\n",
        "else:\n",
        "  print('Do not reject null hypothesis')"
      ],
      "execution_count": 64,
      "outputs": [
        {
          "output_type": "stream",
          "text": [
            "539.5 0.015994988599306093\n",
            "Reject null hypothesis\n"
          ],
          "name": "stdout"
        }
      ]
    },
    {
      "cell_type": "markdown",
      "metadata": {
        "id": "wTl91qSKsE0l"
      },
      "source": [
        "## Conclusion"
      ]
    },
    {
      "cell_type": "markdown",
      "metadata": {
        "id": "K77dEj-usOub"
      },
      "source": [
        "### *Running the independent t test*\n",
        "\n",
        "The P value 0.0097 is less than 0.05 hence we reject the null hypothesis that the number of Bluecars taken in postal code 75015 is the same as those taken in postal code 75016 during weekdays.\n",
        "\n",
        "At 5% level of significance, there is enough evidence to conclude that the number of Bluecars taken from postal code 75015 is not the same as those taken from postal code 75016 during weekdays. "
      ]
    },
    {
      "cell_type": "markdown",
      "metadata": {
        "id": "AAmjogffEiRS"
      },
      "source": [
        "### *Running the Mann Whitney U Test*\n",
        "\n",
        "The P value 0.016 is less than 0.05 hence we reject the null hypothesis that the number of Bluecars taken in postal code 75015 is the same as those taken in postal code 75016 during weekdays.\n",
        "\n",
        "At 5% level of significance, there is enough evidence to conclude that the number of Bluecars taken from postal code 75015 is not the same as those taken from postal code 75016 during weekdays."
      ]
    },
    {
      "cell_type": "code",
      "metadata": {
        "colab": {
          "base_uri": "https://localhost:8080/"
        },
        "id": "KJG8Itfzcb7g",
        "outputId": "703e8404-6333-487f-e866-dd895e56c366"
      },
      "source": [
        "# Point estimator for the mean of blue cars taken in the population\n",
        "\n",
        "# Obtaining the population mean\n",
        "pop_mean = auto['bluecars_taken_sum'].mean()\n",
        "print('The population mean is', pop_mean)\n",
        "\n",
        "# Obtaining the sample mean\n",
        "samp_mean = auto_strat['bluecars_taken_sum'].mean()\n",
        "print('The point estimate is', samp_mean)\n",
        "\n",
        "#Calculating how much the estimated mean differs from the population mean\n",
        "\n",
        "print('The difference is', pop_mean - samp_mean)\n",
        "\n",
        "# The sample mean under estimates the population mean by 9.85\n"
      ],
      "execution_count": 86,
      "outputs": [
        {
          "output_type": "stream",
          "text": [
            "The population mean is 125.92695057506994\n",
            "The point estimate is 116.07585729130585\n",
            "The difference is 9.851093283764087\n"
          ],
          "name": "stdout"
        }
      ]
    },
    {
      "cell_type": "code",
      "metadata": {
        "colab": {
          "base_uri": "https://localhost:8080/"
        },
        "id": "_89wOckKeQJu",
        "outputId": "f9f54689-2830-4629-b587-d3571c98548f"
      },
      "source": [
        "# Obtaining the interval estimate using a 95% confidence interval\n",
        "import scipy.stats as stats\n",
        "\n",
        "# Finding the sample size\n",
        "sample_size = auto_strat.shape[0]\n",
        "sample_size\n",
        "\n",
        "# Finding the standard error of the mean of the data\n",
        "std_error = auto_strat['bluecars_taken_sum'].std()/np.sqrt(sample_size)\n",
        "std_error\n",
        "\n",
        "stats.norm.interval(0.95, loc = samp_mean, scale = std_error )"
      ],
      "execution_count": 89,
      "outputs": [
        {
          "output_type": "execute_result",
          "data": {
            "text/plain": [
              "(109.86478252640586, 122.28693205620584)"
            ]
          },
          "metadata": {
            "tags": []
          },
          "execution_count": 89
        }
      ]
    }
  ]
}